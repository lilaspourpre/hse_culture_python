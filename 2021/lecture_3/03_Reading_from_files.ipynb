{
 "cells": [
  {
   "cell_type": "markdown",
   "metadata": {},
   "source": [
    "### Чтение файлов"
   ]
  },
  {
   "cell_type": "markdown",
   "metadata": {},
   "source": [
    "#### Мы достаточно много говорили о переменных, и что они могут быть \"изначально разными\", и др, но на практике этого не видели. Пришла пора."
   ]
  },
  {
   "cell_type": "markdown",
   "metadata": {},
   "source": [
    "В папке с программой лежит файл с входными данными. Прочитаем этот файл как \"список строк\""
   ]
  },
  {
   "cell_type": "code",
   "execution_count": 3,
   "metadata": {},
   "outputs": [
    {
     "name": "stdout",
     "output_type": "stream",
     "text": [
      ",Track.Name,Artist.Name,Genre\n",
      "\n",
      "0,Seсorita,Shawn Mendes,canadian pop\n",
      "\n",
      "1,China,Anuel AA,reggaeton flow\n",
      "\n",
      "2,boyfriend (with Social House),Ariana Grande,dance pop\n",
      "\n",
      "3,Beautiful People (feat. Khalid),Ed Sheeran,pop\n",
      "\n",
      "4,Goodbyes (Feat. Young Thug),Post Malone,dfw rap\n",
      "\n",
      "5,I Don't Care (with Justin Bieber),Ed Sheeran,pop\n",
      "\n",
      "6,Ransom,Lil Tecca,trap music\n",
      "\n",
      "7,How Do You Sleep?,Sam Smith,pop\n",
      "\n",
      "8,Old Town Road - Remix,Lil Nas X,country rap\n",
      "\n",
      "9,bad guy,Billie Eilish,electropop\n",
      "\n",
      "10,Callaita,Bad Bunny,reggaeton\n",
      "\n",
      "11,Loco Contigo (feat. J. Balvin & Tyga),DJ Snake,dance pop\n",
      "\n",
      "12,Someone You Loved,Lewis Capaldi,pop\n",
      "\n",
      "13,Otro Trago - Remix,Sech,panamanian pop\n",
      "\n",
      "14,Money In The Grave (Drake ft. Rick Ross),Drake,canadian hip hop\n",
      "\n",
      "15,No Guidance (feat. Drake),Chris Brown,dance pop\n",
      "\n",
      "16,LA CANCIУN,J Balvin,latin\n",
      "\n",
      "17,Sunflower - Spider-Man: Into the Spider-Verse,Post Malone,dfw rap\n",
      "\n",
      "18,Lalala,Y2K,canadian hip hop\n",
      "\n",
      "19,Truth Hurts,Lizzo,escape room\n",
      "\n",
      "20,Piece Of Your Heart,MEDUZA,pop house\n",
      "\n",
      "21,Panini,Lil Nas X,country rap\n",
      "\n",
      "22,No Me Conoce - Remix,Jhay Cortez,reggaeton flow\n",
      "\n",
      "23,Soltera - Remix,Lunay,latin\n",
      "\n",
      "24,bad guy (with Justin Bieber),Billie Eilish,electropop\n",
      "\n",
      "25,If I Can't Have You,Shawn Mendes,canadian pop\n",
      "\n",
      "26,Dance Monkey,Tones and I,australian pop\n",
      "\n",
      "27,It's You,Ali Gatie,canadian hip hop\n",
      "\n",
      "28,Con Calma,Daddy Yankee,latin\n",
      "\n",
      "29,QUE PRETENDES,J Balvin,latin\n",
      "\n",
      "30,Takeaway,The Chainsmokers,edm\n",
      "\n",
      "31,7 rings,Ariana Grande,dance pop\n",
      "\n",
      "32,0.958333333333333,Maluma,reggaeton\n",
      "\n",
      "33,The London (feat. J. Cole & Travis Scott),Young Thug,atl hip hop\n",
      "\n",
      "34,Never Really Over,Katy Perry,dance pop\n",
      "\n",
      "35,Summer Days (feat. Macklemore & Patrick Stump of Fall Out Boy),Martin Garrix,big room\n",
      "\n",
      "36,Otro Trago,Sech,panamanian pop\n",
      "\n",
      "37,Antisocial (with Travis Scott),Ed Sheeran,pop\n",
      "\n",
      "38,Sucker,Jonas Brothers,boy band\n",
      "\n",
      "39,\"fuck i'm lonely (with Anne-Marie) - from “13 Reasons Why: Season 3”\",Lauv,dance pop\n",
      "\n",
      "40,Higher Love,Kygo,edm\n",
      "\n",
      "41,You Need To Calm Down,Taylor Swift,dance pop\n",
      "\n",
      "42,Shallow,Lady Gaga,dance pop\n",
      "\n",
      "43,Talk,Khalid,pop\n",
      "\n",
      "44,Con Altura,ROSALНA,r&b en espanol\n",
      "\n",
      "45,One Thing Right,Marshmello,brostep\n",
      "\n",
      "46,Te Robarй,Nicky Jam,latin\n",
      "\n",
      "47,Happier,Marshmello,brostep\n",
      "\n",
      "48,Call You Mine,The Chainsmokers,edm\n",
      "\n",
      "49,Cross Me (feat. Chance the Rapper & PnB Rock),Ed Sheeran,pop\n",
      "\n"
     ]
    }
   ],
   "source": [
    "with open('top50.csv', 'r', encoding=\"utf-8\") as f:\n",
    "    for line in f:\n",
    "        print(line)"
   ]
  },
  {
   "cell_type": "markdown",
   "metadata": {},
   "source": [
    "Разберем по порядку. Функция `open` создает буфер обмена, через который данные могут передаваься с физического носителя в память программы. Данная функция возвращает объект для работы с файлом. Первый параметр -- имя файла, второй -- режим работы (`'r'` -- чтение, `'w'` -- запись, `'a'` -- добавление, а так же `'rb'`, `'wb'`, `'ab'` и др.)\n",
    "\n",
    "У этого объекта есть ряд встроенных функций для получения данных. Функция ``readline`` читает по одной строке из оставшихся."
   ]
  },
  {
   "cell_type": "code",
   "execution_count": null,
   "metadata": {},
   "outputs": [],
   "source": [
    "with open('top50.csv', 'r', encoding=\"utf-8\") as f:\n",
    "    print(f\"The first string in file is:\\n\\n{f.readline()}\")\n",
    "    print()\n",
    "    print(f\"The second string in file is:\\n\\n{f.readline()}\")"
   ]
  },
  {
   "cell_type": "markdown",
   "metadata": {},
   "source": [
    "Функция ``read`` позволяет читать весь файл сразу, или информацию посимвольно."
   ]
  },
  {
   "cell_type": "code",
   "execution_count": 5,
   "metadata": {},
   "outputs": [
    {
     "name": "stdout",
     "output_type": "stream",
     "text": [
      ",Track.Name,Artist.Name,Genre\n",
      "0,Seсorita,Shawn Mendes,canadian pop\n",
      "1,China,Anuel AA,reggaeton flow\n",
      "2,boyfriend (with Social House),Ariana Grande,dance pop\n",
      "3,Beautiful People (feat. Khalid),Ed Sheeran,pop\n",
      "4,Goodbyes (Feat. Young Thug),Post Malone,dfw rap\n",
      "5,I Don't Care (with Justin Bieber),Ed Sheeran,pop\n",
      "6,Ransom,Lil Tecca,trap music\n",
      "7,How Do You Sleep?,Sam Smith,pop\n",
      "8,Old Town Road - Remix,Lil Nas X,country rap\n",
      "9,bad guy,Billie Eilish,electropop\n",
      "10,Callaita,Bad Bunny,reggaeton\n",
      "11,Loco Contigo (feat. J. Balvin & Tyga),DJ Snake,dance pop\n",
      "12,Someone You Loved,Lewis Capaldi,pop\n",
      "13,Otro Trago - Remix,Sech,panamanian pop\n",
      "14,Money In The Grave (Drake ft. Rick Ross),Drake,canadian hip hop\n",
      "15,No Guidance (feat. Drake),Chris Brown,dance pop\n",
      "16,LA CANCIУN,J Balvin,latin\n",
      "17,Sunflower - Spider-Man: Into the Spider-Verse,Post Malone,dfw rap\n",
      "18,Lalala,Y2K,canadian hip hop\n",
      "19,Truth Hurts,Lizzo,escape room\n",
      "20,Piece Of Your Heart,MEDUZA,pop house\n",
      "21,Panini,Lil Nas X,country rap\n",
      "22,No Me Conoce - Remix,Jhay Cortez,reggaeton flow\n",
      "23,Soltera - Remix,Lunay,latin\n",
      "24,bad guy (with Justin Bieber),Billie Eilish,electropop\n",
      "25,If I Can't Have You,Shawn Mendes,canadian pop\n",
      "26,Dance Monkey,Tones and I,australian pop\n",
      "27,It's You,Ali Gatie,canadian hip hop\n",
      "28,Con Calma,Daddy Yankee,latin\n",
      "29,QUE PRETENDES,J Balvin,latin\n",
      "30,Takeaway,The Chainsmokers,edm\n",
      "31,7 rings,Ariana Grande,dance pop\n",
      "32,0.958333333333333,Maluma,reggaeton\n",
      "33,The London (feat. J. Cole & Travis Scott),Young Thug,atl hip hop\n",
      "34,Never Really Over,Katy Perry,dance pop\n",
      "35,Summer Days (feat. Macklemore & Patrick Stump of Fall Out Boy),Martin Garrix,big room\n",
      "36,Otro Trago,Sech,panamanian pop\n",
      "37,Antisocial (with Travis Scott),Ed Sheeran,pop\n",
      "38,Sucker,Jonas Brothers,boy band\n",
      "39,\"fuck i'm lonely (with Anne-Marie) - from “13 Reasons Why: Season 3”\",Lauv,dance pop\n",
      "40,Higher Love,Kygo,edm\n",
      "41,You Need To Calm Down,Taylor Swift,dance pop\n",
      "42,Shallow,Lady Gaga,dance pop\n",
      "43,Talk,Khalid,pop\n",
      "44,Con Altura,ROSALНA,r&b en espanol\n",
      "45,One Thing Right,Marshmello,brostep\n",
      "46,Te Robarй,Nicky Jam,latin\n",
      "47,Happier,Marshmello,brostep\n",
      "48,Call You Mine,The Chainsmokers,edm\n",
      "49,Cross Me (feat. Chance the Rapper & PnB Rock),Ed Sheeran,pop\n",
      "\n"
     ]
    }
   ],
   "source": [
    "with open('top50.csv', 'r', encoding=\"utf-8\") as f:\n",
    "    text = f.read()\n",
    "print(text)"
   ]
  },
  {
   "cell_type": "markdown",
   "metadata": {},
   "source": [
    "**Задание:** прочитать файл ``top50.csv``, разделить его по переходам на новую строку, каждую строку разделить по запятой. Должен получиться список списков."
   ]
  },
  {
   "cell_type": "code",
   "execution_count": 28,
   "metadata": {},
   "outputs": [],
   "source": [
    "result = []\n",
    "# your code here\n",
    "\n",
    "with open(\"top50.csv\", 'r', encoding=\"utf-8\") as f:\n",
    "    for line in f:\n",
    "        result.append(line.strip(\"\\n\").split(','))"
   ]
  },
  {
   "cell_type": "code",
   "execution_count": 29,
   "metadata": {},
   "outputs": [
    {
     "data": {
      "text/plain": [
       "[['', 'Track.Name', 'Artist.Name', 'Genre'],\n",
       " ['0', 'Seсorita', 'Shawn Mendes', 'canadian pop'],\n",
       " ['1', 'China', 'Anuel AA', 'reggaeton flow'],\n",
       " ['2', 'boyfriend (with Social House)', 'Ariana Grande', 'dance pop'],\n",
       " ['3', 'Beautiful People (feat. Khalid)', 'Ed Sheeran', 'pop'],\n",
       " ['4', 'Goodbyes (Feat. Young Thug)', 'Post Malone', 'dfw rap'],\n",
       " ['5', \"I Don't Care (with Justin Bieber)\", 'Ed Sheeran', 'pop'],\n",
       " ['6', 'Ransom', 'Lil Tecca', 'trap music'],\n",
       " ['7', 'How Do You Sleep?', 'Sam Smith', 'pop'],\n",
       " ['8', 'Old Town Road - Remix', 'Lil Nas X', 'country rap'],\n",
       " ['9', 'bad guy', 'Billie Eilish', 'electropop'],\n",
       " ['10', 'Callaita', 'Bad Bunny', 'reggaeton'],\n",
       " ['11', 'Loco Contigo (feat. J. Balvin & Tyga)', 'DJ Snake', 'dance pop'],\n",
       " ['12', 'Someone You Loved', 'Lewis Capaldi', 'pop'],\n",
       " ['13', 'Otro Trago - Remix', 'Sech', 'panamanian pop'],\n",
       " ['14',\n",
       "  'Money In The Grave (Drake ft. Rick Ross)',\n",
       "  'Drake',\n",
       "  'canadian hip hop'],\n",
       " ['15', 'No Guidance (feat. Drake)', 'Chris Brown', 'dance pop'],\n",
       " ['16', 'LA CANCIУN', 'J Balvin', 'latin'],\n",
       " ['17',\n",
       "  'Sunflower - Spider-Man: Into the Spider-Verse',\n",
       "  'Post Malone',\n",
       "  'dfw rap'],\n",
       " ['18', 'Lalala', 'Y2K', 'canadian hip hop'],\n",
       " ['19', 'Truth Hurts', 'Lizzo', 'escape room'],\n",
       " ['20', 'Piece Of Your Heart', 'MEDUZA', 'pop house'],\n",
       " ['21', 'Panini', 'Lil Nas X', 'country rap'],\n",
       " ['22', 'No Me Conoce - Remix', 'Jhay Cortez', 'reggaeton flow'],\n",
       " ['23', 'Soltera - Remix', 'Lunay', 'latin'],\n",
       " ['24', 'bad guy (with Justin Bieber)', 'Billie Eilish', 'electropop'],\n",
       " ['25', \"If I Can't Have You\", 'Shawn Mendes', 'canadian pop'],\n",
       " ['26', 'Dance Monkey', 'Tones and I', 'australian pop'],\n",
       " ['27', \"It's You\", 'Ali Gatie', 'canadian hip hop'],\n",
       " ['28', 'Con Calma', 'Daddy Yankee', 'latin'],\n",
       " ['29', 'QUE PRETENDES', 'J Balvin', 'latin'],\n",
       " ['30', 'Takeaway', 'The Chainsmokers', 'edm'],\n",
       " ['31', '7 rings', 'Ariana Grande', 'dance pop'],\n",
       " ['32', '0.958333333333333', 'Maluma', 'reggaeton'],\n",
       " ['33',\n",
       "  'The London (feat. J. Cole & Travis Scott)',\n",
       "  'Young Thug',\n",
       "  'atl hip hop'],\n",
       " ['34', 'Never Really Over', 'Katy Perry', 'dance pop'],\n",
       " ['35',\n",
       "  'Summer Days (feat. Macklemore & Patrick Stump of Fall Out Boy)',\n",
       "  'Martin Garrix',\n",
       "  'big room'],\n",
       " ['36', 'Otro Trago', 'Sech', 'panamanian pop'],\n",
       " ['37', 'Antisocial (with Travis Scott)', 'Ed Sheeran', 'pop'],\n",
       " ['38', 'Sucker', 'Jonas Brothers', 'boy band'],\n",
       " ['39',\n",
       "  '\"fuck i\\'m lonely (with Anne-Marie) - from “13 Reasons Why: Season 3”\"',\n",
       "  'Lauv',\n",
       "  'dance pop'],\n",
       " ['40', 'Higher Love', 'Kygo', 'edm'],\n",
       " ['41', 'You Need To Calm Down', 'Taylor Swift', 'dance pop'],\n",
       " ['42', 'Shallow', 'Lady Gaga', 'dance pop'],\n",
       " ['43', 'Talk', 'Khalid', 'pop'],\n",
       " ['44', 'Con Altura', 'ROSALНA', 'r&b en espanol'],\n",
       " ['45', 'One Thing Right', 'Marshmello', 'brostep'],\n",
       " ['46', 'Te Robarй', 'Nicky Jam', 'latin'],\n",
       " ['47', 'Happier', 'Marshmello', 'brostep'],\n",
       " ['48', 'Call You Mine', 'The Chainsmokers', 'edm'],\n",
       " ['49', 'Cross Me (feat. Chance the Rapper & PnB Rock)', 'Ed Sheeran', 'pop']]"
      ]
     },
     "execution_count": 29,
     "metadata": {},
     "output_type": "execute_result"
    }
   ],
   "source": [
    "result"
   ]
  },
  {
   "cell_type": "markdown",
   "metadata": {},
   "source": [
    "Функция *write* записывает объект в файл."
   ]
  },
  {
   "cell_type": "code",
   "execution_count": 31,
   "metadata": {},
   "outputs": [],
   "source": [
    "with open(\"krakozyabra.tsv\", 'w', encoding=\"utf-8\") as w:\n",
    "    for number, song, singer, genre in result:\n",
    "        w.write(f\"{song}\\t{genre}\\t{singer}\\n\")"
   ]
  },
  {
   "cell_type": "markdown",
   "metadata": {},
   "source": [
    "**Задание:** (оно вам очень пригодится) Напишите функцию, которая принимает на вход строку с именем файла и строку с разделителем (по умолчанию запятая), читает файл, делит на строки, делит по разделителю и возращает список списков"
   ]
  },
  {
   "cell_type": "code",
   "execution_count": 31,
   "metadata": {},
   "outputs": [],
   "source": [
    "# your code here\n",
    "\n",
    "def read_file(filename, sep=\",\"):\n",
    "    result = []\n",
    "    with open(filename, \"r\", encoding=\"utf-8\") as f:\n",
    "        for line in f:\n",
    "            result.append(line.strip().split(sep))\n",
    "    return result"
   ]
  },
  {
   "cell_type": "code",
   "execution_count": 32,
   "metadata": {},
   "outputs": [],
   "source": [
    "file1 = \"top50.csv\"\n",
    "file2 = \"top50.tsv\""
   ]
  },
  {
   "cell_type": "code",
   "execution_count": null,
   "metadata": {},
   "outputs": [],
   "source": [
    "read_file(file1)"
   ]
  },
  {
   "cell_type": "code",
   "execution_count": 36,
   "metadata": {},
   "outputs": [
    {
     "data": {
      "text/plain": [
       "[['Track.Name', 'Artist.Name', 'Genre'],\n",
       " ['Seсorita', 'Shawn Mendes', 'canadian pop'],\n",
       " ['China', 'Anuel AA', 'reggaeton flow'],\n",
       " ['boyfriend (with Social House)', 'Ariana Grande', 'dance pop'],\n",
       " ['Beautiful People (feat. Khalid)', 'Ed Sheeran', 'pop'],\n",
       " ['Goodbyes (Feat. Young Thug)', 'Post Malone', 'dfw rap'],\n",
       " [\"I Don't Care (with Justin Bieber)\", 'Ed Sheeran', 'pop'],\n",
       " ['Ransom', 'Lil Tecca', 'trap music'],\n",
       " ['How Do You Sleep?', 'Sam Smith', 'pop'],\n",
       " ['Old Town Road - Remix', 'Lil Nas X', 'country rap'],\n",
       " ['bad guy', 'Billie Eilish', 'electropop'],\n",
       " ['Callaita', 'Bad Bunny', 'reggaeton'],\n",
       " ['Loco Contigo (feat. J. Balvin & Tyga)', 'DJ Snake', 'dance pop'],\n",
       " ['Someone You Loved', 'Lewis Capaldi', 'pop'],\n",
       " ['Otro Trago - Remix', 'Sech', 'panamanian pop'],\n",
       " ['Money In The Grave (Drake ft. Rick Ross)', 'Drake', 'canadian hip hop'],\n",
       " ['No Guidance (feat. Drake)', 'Chris Brown', 'dance pop'],\n",
       " ['LA CANCIУN', 'J Balvin', 'latin'],\n",
       " ['Sunflower - Spider-Man: Into the Spider-Verse', 'Post Malone', 'dfw rap'],\n",
       " ['Lalala', 'Y2K', 'canadian hip hop'],\n",
       " ['Truth Hurts', 'Lizzo', 'escape room'],\n",
       " ['Piece Of Your Heart', 'MEDUZA', 'pop house'],\n",
       " ['Panini', 'Lil Nas X', 'country rap'],\n",
       " ['No Me Conoce - Remix', 'Jhay Cortez', 'reggaeton flow'],\n",
       " ['Soltera - Remix', 'Lunay', 'latin'],\n",
       " ['bad guy (with Justin Bieber)', 'Billie Eilish', 'electropop'],\n",
       " [\"If I Can't Have You\", 'Shawn Mendes', 'canadian pop'],\n",
       " ['Dance Monkey', 'Tones and I', 'australian pop'],\n",
       " [\"It's You\", 'Ali Gatie', 'canadian hip hop'],\n",
       " ['Con Calma', 'Daddy Yankee', 'latin'],\n",
       " ['QUE PRETENDES', 'J Balvin', 'latin'],\n",
       " ['Takeaway', 'The Chainsmokers', 'edm'],\n",
       " ['7 rings', 'Ariana Grande', 'dance pop'],\n",
       " ['0.958333333333333', 'Maluma', 'reggaeton'],\n",
       " ['The London (feat. J. Cole & Travis Scott)', 'Young Thug', 'atl hip hop'],\n",
       " ['Never Really Over', 'Katy Perry', 'dance pop'],\n",
       " ['Summer Days (feat. Macklemore & Patrick Stump of Fall Out Boy)',\n",
       "  'Martin Garrix',\n",
       "  'big room'],\n",
       " ['Otro Trago', 'Sech', 'panamanian pop'],\n",
       " ['Antisocial (with Travis Scott)', 'Ed Sheeran', 'pop'],\n",
       " ['Sucker', 'Jonas Brothers', 'boy band'],\n",
       " ['\"fuck i\\'m lonely (with Anne-Marie) - from “13 Reasons Why: Season 3”\"',\n",
       "  'Lauv',\n",
       "  'dance pop'],\n",
       " ['Higher Love', 'Kygo', 'edm'],\n",
       " ['You Need To Calm Down', 'Taylor Swift', 'dance pop'],\n",
       " ['Shallow', 'Lady Gaga', 'dance pop'],\n",
       " ['Talk', 'Khalid', 'pop'],\n",
       " ['Con Altura', 'ROSALНA', 'r&b en espanol'],\n",
       " ['One Thing Right', 'Marshmello', 'brostep'],\n",
       " ['Te Robarй', 'Nicky Jam', 'latin'],\n",
       " ['Happier', 'Marshmello', 'brostep'],\n",
       " ['Call You Mine', 'The Chainsmokers', 'edm'],\n",
       " ['Cross Me (feat. Chance the Rapper & PnB Rock)', 'Ed Sheeran', 'pop']]"
      ]
     },
     "execution_count": 36,
     "metadata": {},
     "output_type": "execute_result"
    }
   ],
   "source": [
    "read_file(file2, \"\\t\")"
   ]
  },
  {
   "cell_type": "code",
   "execution_count": null,
   "metadata": {},
   "outputs": [],
   "source": []
  }
 ],
 "metadata": {
  "kernelspec": {
   "display_name": "Python 3 (ipykernel)",
   "language": "python",
   "name": "python3"
  },
  "language_info": {
   "codemirror_mode": {
    "name": "ipython",
    "version": 3
   },
   "file_extension": ".py",
   "mimetype": "text/x-python",
   "name": "python",
   "nbconvert_exporter": "python",
   "pygments_lexer": "ipython3",
   "version": "3.8.6"
  }
 },
 "nbformat": 4,
 "nbformat_minor": 1
}
