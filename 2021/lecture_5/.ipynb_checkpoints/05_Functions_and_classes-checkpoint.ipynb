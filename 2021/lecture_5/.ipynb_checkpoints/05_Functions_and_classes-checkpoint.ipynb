{
 "cells": [
  {
   "cell_type": "markdown",
   "metadata": {},
   "source": [
    "# Функции и классы"
   ]
  },
  {
   "cell_type": "markdown",
   "metadata": {},
   "source": [
    "## 1. Функции"
   ]
  },
  {
   "cell_type": "markdown",
   "metadata": {},
   "source": [
    "Пусть у нас есть часто используемый участок кода. Например, нам надо в двух разных местах программы найти число Фибоначчи. Переписывать два раза одно и тоже лень. Копи-паст тоже не всегда спасает: если в коде ошибка, то придется менять ее во всех версиях копипаста - долго и неудобно. Поэтому ленивые программисты придумали такую вещь, как функции..."
   ]
  },
  {
   "cell_type": "markdown",
   "metadata": {},
   "source": [
    "Функции объявляются с помощью ключевого слова ``def``, после чего следует название и аргументы функции. Результат \"возвращается\" с помощью ключевого слова ``return``."
   ]
  },
  {
   "cell_type": "code",
   "execution_count": 140,
   "metadata": {
    "scrolled": true
   },
   "outputs": [],
   "source": [
    "def add_two_numbers(a, b):\n",
    "    c = a - b\n",
    "    return c"
   ]
  },
  {
   "cell_type": "code",
   "execution_count": 165,
   "metadata": {},
   "outputs": [
    {
     "data": {
      "text/plain": [
       "-2"
      ]
     },
     "execution_count": 165,
     "metadata": {},
     "output_type": "execute_result"
    }
   ],
   "source": [
    "s = add_two_numbers(1, 3)\n",
    "s"
   ]
  },
  {
   "cell_type": "code",
   "execution_count": 166,
   "metadata": {},
   "outputs": [],
   "source": [
    "s = add_two_numbers(3, 4)"
   ]
  },
  {
   "cell_type": "code",
   "execution_count": 143,
   "metadata": {},
   "outputs": [
    {
     "data": {
      "text/plain": [
       "-1"
      ]
     },
     "execution_count": 143,
     "metadata": {},
     "output_type": "execute_result"
    }
   ],
   "source": [
    "s"
   ]
  },
  {
   "cell_type": "markdown",
   "metadata": {},
   "source": [
    "Для функции есть возможность задавать аргументы по умолчанию."
   ]
  },
  {
   "cell_type": "code",
   "execution_count": 60,
   "metadata": {
    "scrolled": true
   },
   "outputs": [],
   "source": [
    "def print_string(s=\"Default string\"):\n",
    "    print(s)"
   ]
  },
  {
   "cell_type": "code",
   "execution_count": 69,
   "metadata": {},
   "outputs": [
    {
     "name": "stdout",
     "output_type": "stream",
     "text": [
      "Default string\n"
     ]
    }
   ],
   "source": [
    "print_string()"
   ]
  },
  {
   "cell_type": "code",
   "execution_count": 70,
   "metadata": {},
   "outputs": [
    {
     "name": "stdout",
     "output_type": "stream",
     "text": [
      "GHJfsrr\n"
     ]
    }
   ],
   "source": [
    "print_string(\"GHJfsrr\")"
   ]
  },
  {
   "cell_type": "markdown",
   "metadata": {},
   "source": [
    "Функции могут принимать на вход 0+ аргументов, однако аргументы имеющие значение по умолчанию должны следовать СТРОГО ЗА аргументами, у которых нет значения по умолчанию, например:"
   ]
  },
  {
   "cell_type": "code",
   "execution_count": 98,
   "metadata": {
    "scrolled": true
   },
   "outputs": [],
   "source": [
    "def test(a, b, c=\"Hello\", d=\"world\"):\n",
    "    return f\"a = {a}, b = {b}, a + b = {a+b} and {c}, {d}!\""
   ]
  },
  {
   "cell_type": "code",
   "execution_count": 99,
   "metadata": {
    "scrolled": true
   },
   "outputs": [
    {
     "data": {
      "text/plain": [
       "'a = 100, b = 5, a + b = 105 and Hello, world!'"
      ]
     },
     "execution_count": 99,
     "metadata": {},
     "output_type": "execute_result"
    }
   ],
   "source": [
    "test(100, 5)"
   ]
  },
  {
   "cell_type": "code",
   "execution_count": 92,
   "metadata": {
    "scrolled": true
   },
   "outputs": [
    {
     "data": {
      "text/plain": [
       "'a = 100, b = 5, a + b = 105 and Hello, Маша!'"
      ]
     },
     "execution_count": 92,
     "metadata": {},
     "output_type": "execute_result"
    }
   ],
   "source": [
    "test(100, 5, d=\"Маша\")"
   ]
  },
  {
   "cell_type": "markdown",
   "metadata": {},
   "source": [
    "Обратный порядок не работает:"
   ]
  },
  {
   "cell_type": "code",
   "execution_count": 91,
   "metadata": {
    "scrolled": true
   },
   "outputs": [
    {
     "data": {
      "text/plain": [
       "'a = 100, b = 5, a + b = 105 and Heeeeelllooo, Маша!'"
      ]
     },
     "execution_count": 91,
     "metadata": {},
     "output_type": "execute_result"
    }
   ],
   "source": [
    "test(100, 5, \"Heeeeelllooo\", \"Маша\")"
   ]
  },
  {
   "cell_type": "markdown",
   "metadata": {},
   "source": [
    "**Задание**: напишите функцию, приводяющую строку к нижнему регистру и потом разделяющую ее на пробелы."
   ]
  },
  {
   "cell_type": "code",
   "execution_count": 106,
   "metadata": {
    "scrolled": true
   },
   "outputs": [],
   "source": [
    "# your code here\n",
    "\n",
    "def split_string_and_lowercase(s):\n",
    "    s = s.lower()\n",
    "    s = s.split(\" \")\n",
    "    return s"
   ]
  },
  {
   "cell_type": "code",
   "execution_count": 120,
   "metadata": {},
   "outputs": [],
   "source": [
    "a = \"Мама мыла раму\"\n",
    "b = \"dfrnjenb JSGHJBGJ\"\n",
    "c = \"Мама мыла вторую рамУ\""
   ]
  },
  {
   "cell_type": "code",
   "execution_count": 121,
   "metadata": {},
   "outputs": [
    {
     "data": {
      "text/plain": [
       "['мама', 'мыла', 'раму']"
      ]
     },
     "execution_count": 121,
     "metadata": {},
     "output_type": "execute_result"
    }
   ],
   "source": [
    "split_string_and_lowercase(a)"
   ]
  },
  {
   "cell_type": "code",
   "execution_count": 122,
   "metadata": {},
   "outputs": [
    {
     "data": {
      "text/plain": [
       "['dfrnjenb', 'jsghjbgj']"
      ]
     },
     "execution_count": 122,
     "metadata": {},
     "output_type": "execute_result"
    }
   ],
   "source": [
    "split_string_and_lowercase(b)"
   ]
  },
  {
   "cell_type": "code",
   "execution_count": 119,
   "metadata": {},
   "outputs": [
    {
     "data": {
      "text/plain": [
       "['мама', 'мыла', 'вторую', 'раму']"
      ]
     },
     "execution_count": 119,
     "metadata": {},
     "output_type": "execute_result"
    }
   ],
   "source": [
    "split_string_and_lowercase(c)"
   ]
  },
  {
   "cell_type": "markdown",
   "metadata": {},
   "source": [
    "### Рекурсия"
   ]
  },
  {
   "cell_type": "markdown",
   "metadata": {},
   "source": [
    "Наверное, единственная вещь, для которой объявление функции незаменимо - рекурсивный вызов. Фокус в том, что внутри функций можно вызывать другие функции. В том числе и функцию, которую мы в данный момент объявляем **(!)**."
   ]
  },
  {
   "cell_type": "code",
   "execution_count": 125,
   "metadata": {
    "scrolled": true
   },
   "outputs": [
    {
     "name": "stdout",
     "output_type": "stream",
     "text": [
      "1\n",
      "1\n",
      "2\n",
      "6\n",
      "24\n",
      "120\n"
     ]
    }
   ],
   "source": [
    "def factorial(n):\n",
    "    if n == 0:\n",
    "        return 1\n",
    "    else:\n",
    "        return n*factorial(n-1)\n",
    "\n",
    "for i in range(6):\n",
    "    print(factorial(i))"
   ]
  },
  {
   "cell_type": "markdown",
   "metadata": {},
   "source": [
    "## 2. Классы"
   ]
  },
  {
   "cell_type": "markdown",
   "metadata": {},
   "source": [
    "О классах вообще (и в питоне в частности) можно говорить очень много, они выполняют самые разнообразные функции.\n",
    "\n",
    "Тем кто захочет углубиться в классы, сюда: https://docs.python.org/3/tutorial/classes.html"
   ]
  },
  {
   "cell_type": "markdown",
   "metadata": {},
   "source": [
    "Пример:"
   ]
  },
  {
   "cell_type": "code",
   "execution_count": null,
   "metadata": {
    "scrolled": true
   },
   "outputs": [],
   "source": [
    "# чтобы установить библиотеку emoji\n",
    "!pip install emoji"
   ]
  },
  {
   "cell_type": "code",
   "execution_count": 154,
   "metadata": {
    "scrolled": true
   },
   "outputs": [],
   "source": [
    "import emoji\n",
    "from collections import Counter\n",
    "\n",
    "class Preprocessing:\n",
    "    def __init__(self, text):\n",
    "        self.text = text\n",
    "    \n",
    "    def get_sentences(self):\n",
    "        return [i.strip() for i in self.text.replace(\"!\", \".\").replace(\"?\", \".\").replace(\"...\", \".\").replace(\".\\n\", \". \").split(\". \")]\n",
    "    \n",
    "    def get_words(self):\n",
    "        return [i.strip(\".,!?\") for i in self.text.split()]\n",
    "        \n",
    "    def get_counted_words(self):\n",
    "        return Counter(self.text.lower().split())\n",
    "    \n",
    "    def get_emojis(self):\n",
    "        return set([i for i in self.text if i in emoji.UNICODE_EMOJI])"
   ]
  },
  {
   "cell_type": "code",
   "execution_count": 159,
   "metadata": {
    "scrolled": true
   },
   "outputs": [],
   "source": [
    "s = \"\"\"🧨🧨 Так, ребята и зверята, у нас ОТЛИЧНАЯ НОВОСТЬ! В субботу 19-го сентября мы играем сольный концерт в Паверхаусе!\n",
    "Быстренько топайте по ссылке, отмечайтесь и закупайтесь билетами, пока они по 400 р.\n",
    "Сыграем всё, а ещё — ❌ внимание! ❌ — будет премьера новой песни! До субботы! https://vk.com/so_pwrhs\"\"\"\n",
    "\n",
    "preprocess = Preprocessing(s)"
   ]
  },
  {
   "cell_type": "code",
   "execution_count": 160,
   "metadata": {
    "scrolled": true
   },
   "outputs": [
    {
     "data": {
      "text/plain": [
       "['\\U0001f9e8\\U0001f9e8',\n",
       " 'Так',\n",
       " 'ребята',\n",
       " 'и',\n",
       " 'зверята',\n",
       " 'у',\n",
       " 'нас',\n",
       " 'ОТЛИЧНАЯ',\n",
       " 'НОВОСТЬ',\n",
       " 'В',\n",
       " 'субботу',\n",
       " '19-го',\n",
       " 'сентября',\n",
       " 'мы',\n",
       " 'играем',\n",
       " 'сольный',\n",
       " 'концерт',\n",
       " 'в',\n",
       " 'Паверхаусе',\n",
       " 'Быстренько',\n",
       " 'топайте',\n",
       " 'по',\n",
       " 'ссылке',\n",
       " 'отмечайтесь',\n",
       " 'и',\n",
       " 'закупайтесь',\n",
       " 'билетами',\n",
       " 'пока',\n",
       " 'они',\n",
       " 'по',\n",
       " '400',\n",
       " 'р',\n",
       " 'Сыграем',\n",
       " 'всё',\n",
       " 'а',\n",
       " 'ещё',\n",
       " '—',\n",
       " '❌',\n",
       " 'внимание',\n",
       " '❌',\n",
       " '—',\n",
       " 'будет',\n",
       " 'премьера',\n",
       " 'новой',\n",
       " 'песни',\n",
       " 'До',\n",
       " 'субботы',\n",
       " 'https://vk.com/so_pwrhs']"
      ]
     },
     "execution_count": 160,
     "metadata": {},
     "output_type": "execute_result"
    }
   ],
   "source": [
    "preprocess.get_words()"
   ]
  },
  {
   "cell_type": "code",
   "execution_count": 161,
   "metadata": {
    "scrolled": true
   },
   "outputs": [
    {
     "data": {
      "text/plain": [
       "['\\U0001f9e8\\U0001f9e8 Так, ребята и зверята, у нас ОТЛИЧНАЯ НОВОСТЬ',\n",
       " 'В субботу 19-го сентября мы играем сольный концерт в Паверхаусе',\n",
       " 'Быстренько топайте по ссылке, отмечайтесь и закупайтесь билетами, пока они по 400 р',\n",
       " 'Сыграем всё, а ещё — ❌ внимание',\n",
       " '❌ — будет премьера новой песни',\n",
       " 'До субботы',\n",
       " 'https://vk.com/so_pwrhs']"
      ]
     },
     "execution_count": 161,
     "metadata": {},
     "output_type": "execute_result"
    }
   ],
   "source": [
    "preprocess.get_sentences()"
   ]
  },
  {
   "cell_type": "code",
   "execution_count": 158,
   "metadata": {
    "scrolled": true
   },
   "outputs": [
    {
     "data": {
      "text/plain": [
       "Counter({'\\U0001f9e8\\U0001f9e8': 1,\n",
       "         'так,': 1,\n",
       "         'ребята': 1,\n",
       "         'и': 2,\n",
       "         'зверята,': 1,\n",
       "         'у': 1,\n",
       "         'нас': 1,\n",
       "         'отличная': 1,\n",
       "         'новость!': 1,\n",
       "         'в': 2,\n",
       "         'субботу': 1,\n",
       "         '19-го': 1,\n",
       "         'сентября': 1,\n",
       "         'мы': 1,\n",
       "         'играем': 1,\n",
       "         'сольный': 1,\n",
       "         'концерт': 1,\n",
       "         'паверхаусе!': 1,\n",
       "         'быстренько': 1,\n",
       "         'топайте': 1,\n",
       "         'по': 2,\n",
       "         'ссылке,': 1,\n",
       "         'отмечайтесь': 1,\n",
       "         'закупайтесь': 1,\n",
       "         'билетами,': 1,\n",
       "         'пока': 1,\n",
       "         'они': 1,\n",
       "         '400': 1,\n",
       "         'р.': 1,\n",
       "         'сыграем': 1,\n",
       "         'всё,': 1,\n",
       "         'а': 1,\n",
       "         'ещё': 1,\n",
       "         '—': 2,\n",
       "         '❌': 2,\n",
       "         'внимание!': 1,\n",
       "         'будет': 1,\n",
       "         'премьера': 1,\n",
       "         'новой': 1,\n",
       "         'песни!': 1,\n",
       "         'до': 1,\n",
       "         'субботы!': 1,\n",
       "         'https://vk.com/so_pwrhs': 1})"
      ]
     },
     "execution_count": 158,
     "metadata": {},
     "output_type": "execute_result"
    }
   ],
   "source": [
    "preprocess.get_counted_words()"
   ]
  },
  {
   "cell_type": "code",
   "execution_count": 162,
   "metadata": {
    "scrolled": true
   },
   "outputs": [
    {
     "name": "stdout",
     "output_type": "stream",
     "text": [
      "🧨\n",
      "❌\n"
     ]
    }
   ],
   "source": [
    "emojis = preprocess.get_emojis()\n",
    "for i in emojis:\n",
    "    print(i)"
   ]
  },
  {
   "cell_type": "code",
   "execution_count": null,
   "metadata": {},
   "outputs": [],
   "source": []
  }
 ],
 "metadata": {
  "kernelspec": {
   "display_name": "Python 3 (ipykernel)",
   "language": "python",
   "name": "python3"
  },
  "language_info": {
   "codemirror_mode": {
    "name": "ipython",
    "version": 3
   },
   "file_extension": ".py",
   "mimetype": "text/x-python",
   "name": "python",
   "nbconvert_exporter": "python",
   "pygments_lexer": "ipython3",
   "version": "3.8.6"
  }
 },
 "nbformat": 4,
 "nbformat_minor": 2
}
