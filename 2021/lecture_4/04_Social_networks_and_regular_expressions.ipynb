{
 "cells": [
  {
   "cell_type": "markdown",
   "metadata": {},
   "source": [
    "# Парсинг социальных сетей и регулярные выражения"
   ]
  },
  {
   "cell_type": "markdown",
   "metadata": {},
   "source": [
    "## Регулярные выражения\n",
    "\n",
    "Прежде чем мы приступим к самому интересному -- парсингу соц. сетей, давайте научимся регулярным выражениям за 10 минут."
   ]
  },
  {
   "cell_type": "markdown",
   "metadata": {},
   "source": [
    "переходим **СЮДА**: https://regexone.com/."
   ]
  },
  {
   "cell_type": "markdown",
   "metadata": {},
   "source": [
    "Особым любителям регулярок [сюда](https://alf.nu/RegexGolf).\n",
    "\n",
    "Обязательно к прочтению дома:\n",
    "\n",
    "* [Регулярные выражения, пособие для новичков. Часть 1](https://habr.com/ru/post/115825/)\n",
    "\n",
    "* [Регулярные выражения, пособие для новичков. Часть 2](https://habr.com/ru/post/115436/)\n",
    "\n",
    "* https://ru.wikipedia.org/wiki/Регулярные_выражения"
   ]
  },
  {
   "cell_type": "markdown",
   "metadata": {},
   "source": [
    "Загружаем библиотеку для регулярных выражений:"
   ]
  },
  {
   "cell_type": "code",
   "execution_count": 38,
   "metadata": {},
   "outputs": [],
   "source": [
    "import re"
   ]
  },
  {
   "cell_type": "code",
   "execution_count": 40,
   "metadata": {},
   "outputs": [],
   "source": [
    "text = \"Киркегор - датский философ, богослов и писатель, один из предшественников экзистенциализма. С. Кьеркегор окончил теологический факультет Копенгагенского университета в 1840 году. Степень магистра получил в 1841 году, защитив диссертацию “О понятии иронии, с постоянным обращением к Сократу”, посвященную концепциям иронии у древнегреческих авторов и романтиков. Работы С. Кьеркегора отличаются исключительной психологической точностью и глубиной. Вклад в развистие философии, сделанный Кьеркегаардом. неоценим. Сёрен Киркегаард: немецкое издание Сёрена Киркегаарда. Спецкурс “С. Керкегор и история христианства в XIX в.” посвящен датскому философу Серену Керкегору.\""
   ]
  },
  {
   "cell_type": "code",
   "execution_count": 63,
   "metadata": {},
   "outputs": [
    {
     "data": {
      "text/plain": [
       "[('Киркегор', 'и', 'о', ''),\n",
       " ('Кьеркегор', 'ье', 'о', ''),\n",
       " ('Кьеркегора', 'ье', 'о', ''),\n",
       " ('Кьеркегаардом', 'ье', 'аа', 'ом'),\n",
       " ('Киркегаард', 'и', 'аа', ''),\n",
       " ('Киркегаарда', 'и', 'аа', ''),\n",
       " ('Керкегор', 'е', 'о', ''),\n",
       " ('Керкегору', 'е', 'о', '')]"
      ]
     },
     "execution_count": 63,
     "metadata": {},
     "output_type": "execute_result"
    }
   ],
   "source": [
    "re.findall(r\"(К(е|и|ье)ркег(о|аа)рд?а?у?(ом)?\\b)\", text)"
   ]
  },
  {
   "cell_type": "code",
   "execution_count": 70,
   "metadata": {},
   "outputs": [],
   "source": [
    "len(\"К(е|и|ье)ркег(о|аа)рд?а?у?(ом)?\\b\")\n",
    "\n",
    "\n",
    "word = \"\"\"sjfgergeuygr-\\nskhg sjgh\"\"\""
   ]
  },
  {
   "cell_type": "code",
   "execution_count": 71,
   "metadata": {},
   "outputs": [
    {
     "data": {
      "text/plain": [
       "'sjfgergeuygrskhg sjgh'"
      ]
     },
     "execution_count": 71,
     "metadata": {},
     "output_type": "execute_result"
    }
   ],
   "source": [
    "re.sub(r\"-\\n\", \"\", word)"
   ]
  },
  {
   "cell_type": "markdown",
   "metadata": {},
   "source": [
    "С регулярными выражениями мы продолжим работу на следующем занятии, после того, как вы прочитаете эти статьи. Поехали к самому интересному!"
   ]
  },
  {
   "cell_type": "markdown",
   "metadata": {},
   "source": [
    "## VK"
   ]
  },
  {
   "cell_type": "code",
   "execution_count": null,
   "metadata": {},
   "outputs": [],
   "source": [
    "!pip install vk"
   ]
  },
  {
   "cell_type": "code",
   "execution_count": 3,
   "metadata": {
    "scrolled": true
   },
   "outputs": [],
   "source": [
    "import json\n",
    "import vk"
   ]
  },
  {
   "cell_type": "code",
   "execution_count": 25,
   "metadata": {},
   "outputs": [
    {
     "name": "stdout",
     "output_type": "stream",
     "text": [
      "2021-10-07 16:44:35,594 vk    mixins:107 ERROR: Authorization error (incorrect password)\n"
     ]
    },
    {
     "ename": "VkAuthError",
     "evalue": "Authorization error (incorrect password)",
     "output_type": "error",
     "traceback": [
      "\u001b[1;31m---------------------------------------------------------------------------\u001b[0m",
      "\u001b[1;31mVkAuthError\u001b[0m                               Traceback (most recent call last)",
      "\u001b[1;32m~\\AppData\\Local\\Temp/ipykernel_3712/4251826597.py\u001b[0m in \u001b[0;36m<module>\u001b[1;34m\u001b[0m\n\u001b[0;32m      1\u001b[0m \u001b[1;32mimport\u001b[0m \u001b[0mvk\u001b[0m\u001b[1;33m\u001b[0m\u001b[1;33m\u001b[0m\u001b[0m\n\u001b[1;32m----> 2\u001b[1;33m \u001b[0msession\u001b[0m\u001b[1;33m=\u001b[0m\u001b[0mvk\u001b[0m\u001b[1;33m.\u001b[0m\u001b[0mAuthSession\u001b[0m\u001b[1;33m(\u001b[0m\u001b[0mapp_id\u001b[0m\u001b[1;33m=\u001b[0m\u001b[1;34m'7969632'\u001b[0m\u001b[1;33m,\u001b[0m \u001b[0muser_login\u001b[0m\u001b[1;33m=\u001b[0m\u001b[1;34m'+79308038318'\u001b[0m\u001b[1;33m,\u001b[0m \u001b[0muser_password\u001b[0m\u001b[1;33m=\u001b[0m\u001b[1;34m'Hjo4DhBcQUQyU'\u001b[0m\u001b[1;33m)\u001b[0m\u001b[1;33m\u001b[0m\u001b[1;33m\u001b[0m\u001b[0m\n\u001b[0m\u001b[0;32m      3\u001b[0m \u001b[0mapi\u001b[0m \u001b[1;33m=\u001b[0m \u001b[0mvk\u001b[0m\u001b[1;33m.\u001b[0m\u001b[0mAPI\u001b[0m\u001b[1;33m(\u001b[0m\u001b[0msession\u001b[0m\u001b[1;33m)\u001b[0m\u001b[1;33m\u001b[0m\u001b[1;33m\u001b[0m\u001b[0m\n",
      "\u001b[1;32mc:\\program files\\python38\\lib\\site-packages\\vk\\mixins.py\u001b[0m in \u001b[0;36m__init__\u001b[1;34m(self, app_id, user_login, user_password, scope, **kwargs)\u001b[0m\n\u001b[0;32m     30\u001b[0m         \u001b[1;31m# If we define user login, we need get access token now.\u001b[0m\u001b[1;33m\u001b[0m\u001b[1;33m\u001b[0m\u001b[1;33m\u001b[0m\u001b[0m\n\u001b[0;32m     31\u001b[0m         \u001b[1;32mif\u001b[0m \u001b[0mself\u001b[0m\u001b[1;33m.\u001b[0m\u001b[0muser_login\u001b[0m\u001b[1;33m:\u001b[0m\u001b[1;33m\u001b[0m\u001b[1;33m\u001b[0m\u001b[0m\n\u001b[1;32m---> 32\u001b[1;33m             \u001b[0mself\u001b[0m\u001b[1;33m.\u001b[0m\u001b[0maccess_token\u001b[0m \u001b[1;33m=\u001b[0m \u001b[0mself\u001b[0m\u001b[1;33m.\u001b[0m\u001b[0mget_access_token\u001b[0m\u001b[1;33m(\u001b[0m\u001b[1;33m)\u001b[0m\u001b[1;33m\u001b[0m\u001b[1;33m\u001b[0m\u001b[0m\n\u001b[0m\u001b[0;32m     33\u001b[0m \u001b[1;33m\u001b[0m\u001b[0m\n\u001b[0;32m     34\u001b[0m     \u001b[1;33m@\u001b[0m\u001b[0mproperty\u001b[0m\u001b[1;33m\u001b[0m\u001b[1;33m\u001b[0m\u001b[0m\n",
      "\u001b[1;32mc:\\program files\\python38\\lib\\site-packages\\vk\\mixins.py\u001b[0m in \u001b[0;36mget_access_token\u001b[1;34m(self)\u001b[0m\n\u001b[0;32m     67\u001b[0m         \u001b[1;32mwith\u001b[0m \u001b[0mauth_session\u001b[0m \u001b[1;32mas\u001b[0m \u001b[0mself\u001b[0m\u001b[1;33m.\u001b[0m\u001b[0mauth_session\u001b[0m\u001b[1;33m:\u001b[0m\u001b[1;33m\u001b[0m\u001b[1;33m\u001b[0m\u001b[0m\n\u001b[0;32m     68\u001b[0m             \u001b[0mself\u001b[0m\u001b[1;33m.\u001b[0m\u001b[0mauth_session\u001b[0m \u001b[1;33m=\u001b[0m \u001b[0mauth_session\u001b[0m\u001b[1;33m\u001b[0m\u001b[1;33m\u001b[0m\u001b[0m\n\u001b[1;32m---> 69\u001b[1;33m             \u001b[0mself\u001b[0m\u001b[1;33m.\u001b[0m\u001b[0mlogin\u001b[0m\u001b[1;33m(\u001b[0m\u001b[1;33m)\u001b[0m\u001b[1;33m\u001b[0m\u001b[1;33m\u001b[0m\u001b[0m\n\u001b[0m\u001b[0;32m     70\u001b[0m             \u001b[0mauth_response_url_query\u001b[0m \u001b[1;33m=\u001b[0m \u001b[0mself\u001b[0m\u001b[1;33m.\u001b[0m\u001b[0moauth2_authorization\u001b[0m\u001b[1;33m(\u001b[0m\u001b[1;33m)\u001b[0m\u001b[1;33m\u001b[0m\u001b[1;33m\u001b[0m\u001b[0m\n\u001b[0;32m     71\u001b[0m \u001b[1;33m\u001b[0m\u001b[0m\n",
      "\u001b[1;32mc:\\program files\\python38\\lib\\site-packages\\vk\\mixins.py\u001b[0m in \u001b[0;36mlogin\u001b[1;34m(self)\u001b[0m\n\u001b[0;32m    106\u001b[0m             \u001b[0mmessage\u001b[0m \u001b[1;33m=\u001b[0m \u001b[1;34m'Authorization error (incorrect password)'\u001b[0m\u001b[1;33m\u001b[0m\u001b[1;33m\u001b[0m\u001b[0m\n\u001b[0;32m    107\u001b[0m             \u001b[0mlogger\u001b[0m\u001b[1;33m.\u001b[0m\u001b[0merror\u001b[0m\u001b[1;33m(\u001b[0m\u001b[0mmessage\u001b[0m\u001b[1;33m)\u001b[0m\u001b[1;33m\u001b[0m\u001b[1;33m\u001b[0m\u001b[0m\n\u001b[1;32m--> 108\u001b[1;33m             \u001b[1;32mraise\u001b[0m \u001b[0mVkAuthError\u001b[0m\u001b[1;33m(\u001b[0m\u001b[0mmessage\u001b[0m\u001b[1;33m)\u001b[0m\u001b[1;33m\u001b[0m\u001b[1;33m\u001b[0m\u001b[0m\n\u001b[0m\u001b[0;32m    109\u001b[0m \u001b[1;33m\u001b[0m\u001b[0m\n\u001b[0;32m    110\u001b[0m     \u001b[1;32mdef\u001b[0m \u001b[0moauth2_authorization\u001b[0m\u001b[1;33m(\u001b[0m\u001b[0mself\u001b[0m\u001b[1;33m)\u001b[0m\u001b[1;33m:\u001b[0m\u001b[1;33m\u001b[0m\u001b[1;33m\u001b[0m\u001b[0m\n",
      "\u001b[1;31mVkAuthError\u001b[0m: Authorization error (incorrect password)"
     ]
    }
   ],
   "source": [
    "import vk\n",
    "session=vk.AuthSession(app_id='7969632', user_login='+79308038318', user_password='Hjo4DhBcQUQyU')\n",
    "api = vk.API(session)"
   ]
  },
  {
   "cell_type": "code",
   "execution_count": 12,
   "metadata": {},
   "outputs": [],
   "source": [
    "token = \"4db8a6887bdd0a6098ad33049540d5e675a2a6b15943774ccedf5ddc13319def8fe1f845c041c4465a9c9\"  # Сервисный ключ доступа\n",
    "session = vk.Session(access_token=token)  # Авторизация\n",
    "vk_api = vk.API(session)"
   ]
  },
  {
   "cell_type": "code",
   "execution_count": 34,
   "metadata": {},
   "outputs": [
    {
     "ename": "VkAPIError",
     "evalue": "5. User authorization failed: no access_token passed.. request_params = {'method': 'users.get', 'oauth': '1', 'user_ids': '1'}",
     "output_type": "error",
     "traceback": [
      "\u001b[1;31m---------------------------------------------------------------------------\u001b[0m",
      "\u001b[1;31mVkAPIError\u001b[0m                                Traceback (most recent call last)",
      "\u001b[1;32m~\\AppData\\Local\\Temp/ipykernel_3712/3100808904.py\u001b[0m in \u001b[0;36m<module>\u001b[1;34m\u001b[0m\n\u001b[0;32m      2\u001b[0m \u001b[0msession\u001b[0m \u001b[1;33m=\u001b[0m \u001b[0mvk\u001b[0m\u001b[1;33m.\u001b[0m\u001b[0mSession\u001b[0m\u001b[1;33m(\u001b[0m\u001b[1;33m)\u001b[0m\u001b[1;33m\u001b[0m\u001b[1;33m\u001b[0m\u001b[0m\n\u001b[0;32m      3\u001b[0m \u001b[0mapi\u001b[0m \u001b[1;33m=\u001b[0m \u001b[0mvk\u001b[0m\u001b[1;33m.\u001b[0m\u001b[0mAPI\u001b[0m\u001b[1;33m(\u001b[0m\u001b[0msession\u001b[0m\u001b[1;33m)\u001b[0m\u001b[1;33m\u001b[0m\u001b[1;33m\u001b[0m\u001b[0m\n\u001b[1;32m----> 4\u001b[1;33m \u001b[0mapi\u001b[0m\u001b[1;33m.\u001b[0m\u001b[0musers\u001b[0m\u001b[1;33m.\u001b[0m\u001b[0mget\u001b[0m\u001b[1;33m(\u001b[0m\u001b[0muser_ids\u001b[0m\u001b[1;33m=\u001b[0m\u001b[1;36m1\u001b[0m\u001b[1;33m)\u001b[0m\u001b[1;33m\u001b[0m\u001b[1;33m\u001b[0m\u001b[0m\n\u001b[0m",
      "\u001b[1;32mc:\\program files\\python38\\lib\\site-packages\\vk\\api.py\u001b[0m in \u001b[0;36m__call__\u001b[1;34m(self, **method_args)\u001b[0m\n\u001b[0;32m    171\u001b[0m     \u001b[1;32mdef\u001b[0m \u001b[0m__call__\u001b[0m\u001b[1;33m(\u001b[0m\u001b[0mself\u001b[0m\u001b[1;33m,\u001b[0m \u001b[1;33m**\u001b[0m\u001b[0mmethod_args\u001b[0m\u001b[1;33m)\u001b[0m\u001b[1;33m:\u001b[0m\u001b[1;33m\u001b[0m\u001b[1;33m\u001b[0m\u001b[0m\n\u001b[0;32m    172\u001b[0m         \u001b[0mself\u001b[0m\u001b[1;33m.\u001b[0m\u001b[0m_method_args\u001b[0m \u001b[1;33m=\u001b[0m \u001b[0mmethod_args\u001b[0m\u001b[1;33m\u001b[0m\u001b[1;33m\u001b[0m\u001b[0m\n\u001b[1;32m--> 173\u001b[1;33m         \u001b[1;32mreturn\u001b[0m \u001b[0mself\u001b[0m\u001b[1;33m.\u001b[0m\u001b[0m_api\u001b[0m\u001b[1;33m.\u001b[0m\u001b[0m_session\u001b[0m\u001b[1;33m.\u001b[0m\u001b[0mmake_request\u001b[0m\u001b[1;33m(\u001b[0m\u001b[0mself\u001b[0m\u001b[1;33m)\u001b[0m\u001b[1;33m\u001b[0m\u001b[1;33m\u001b[0m\u001b[0m\n\u001b[0m\u001b[0;32m    174\u001b[0m \u001b[1;33m\u001b[0m\u001b[0m\n\u001b[0;32m    175\u001b[0m \u001b[1;33m\u001b[0m\u001b[0m\n",
      "\u001b[1;32mc:\\program files\\python38\\lib\\site-packages\\vk\\api.py\u001b[0m in \u001b[0;36mmake_request\u001b[1;34m(self, method_request, captcha_response)\u001b[0m\n\u001b[0;32m    100\u001b[0m \u001b[1;33m\u001b[0m\u001b[0m\n\u001b[0;32m    101\u001b[0m                 \u001b[1;32melse\u001b[0m\u001b[1;33m:\u001b[0m\u001b[1;33m\u001b[0m\u001b[1;33m\u001b[0m\u001b[0m\n\u001b[1;32m--> 102\u001b[1;33m                     \u001b[1;32mraise\u001b[0m \u001b[0merror\u001b[0m\u001b[1;33m\u001b[0m\u001b[1;33m\u001b[0m\u001b[0m\n\u001b[0m\u001b[0;32m    103\u001b[0m \u001b[1;33m\u001b[0m\u001b[0m\n\u001b[0;32m    104\u001b[0m     \u001b[1;32mdef\u001b[0m \u001b[0msend_api_request\u001b[0m\u001b[1;33m(\u001b[0m\u001b[0mself\u001b[0m\u001b[1;33m,\u001b[0m \u001b[0mrequest\u001b[0m\u001b[1;33m,\u001b[0m \u001b[0mcaptcha_response\u001b[0m\u001b[1;33m=\u001b[0m\u001b[1;32mNone\u001b[0m\u001b[1;33m)\u001b[0m\u001b[1;33m:\u001b[0m\u001b[1;33m\u001b[0m\u001b[1;33m\u001b[0m\u001b[0m\n",
      "\u001b[1;31mVkAPIError\u001b[0m: 5. User authorization failed: no access_token passed.. request_params = {'method': 'users.get', 'oauth': '1', 'user_ids': '1'}"
     ]
    }
   ],
   "source": [
    "import vk\n",
    "session = vk.Session()\n",
    "api = vk.API(session)\n",
    "api.users.get(user_ids=1)"
   ]
  },
  {
   "cell_type": "code",
   "execution_count": 37,
   "metadata": {},
   "outputs": [
    {
     "ename": "AuthError",
     "evalue": "No handler for two-factor authentication",
     "output_type": "error",
     "traceback": [
      "\u001b[1;31m---------------------------------------------------------------------------\u001b[0m",
      "\u001b[1;31mAuthError\u001b[0m                                 Traceback (most recent call last)",
      "\u001b[1;32m~\\AppData\\Local\\Temp/ipykernel_3712/3981526492.py\u001b[0m in \u001b[0;36m<module>\u001b[1;34m\u001b[0m\n\u001b[0;32m      2\u001b[0m \u001b[1;33m\u001b[0m\u001b[0m\n\u001b[0;32m      3\u001b[0m \u001b[0mvk_session\u001b[0m \u001b[1;33m=\u001b[0m \u001b[0mvk_api\u001b[0m\u001b[1;33m.\u001b[0m\u001b[0mVkApi\u001b[0m\u001b[1;33m(\u001b[0m\u001b[1;34m'+79308038318'\u001b[0m\u001b[1;33m,\u001b[0m \u001b[1;34m'Hjo4DhBcQUQyU'\u001b[0m\u001b[1;33m)\u001b[0m\u001b[1;33m\u001b[0m\u001b[1;33m\u001b[0m\u001b[0m\n\u001b[1;32m----> 4\u001b[1;33m \u001b[0mvk_session\u001b[0m\u001b[1;33m.\u001b[0m\u001b[0mauth\u001b[0m\u001b[1;33m(\u001b[0m\u001b[1;33m)\u001b[0m\u001b[1;33m\u001b[0m\u001b[1;33m\u001b[0m\u001b[0m\n\u001b[0m\u001b[0;32m      5\u001b[0m \u001b[1;33m\u001b[0m\u001b[0m\n\u001b[0;32m      6\u001b[0m \u001b[0mvk\u001b[0m \u001b[1;33m=\u001b[0m \u001b[0mvk_session\u001b[0m\u001b[1;33m.\u001b[0m\u001b[0mget_api\u001b[0m\u001b[1;33m(\u001b[0m\u001b[1;33m)\u001b[0m\u001b[1;33m\u001b[0m\u001b[1;33m\u001b[0m\u001b[0m\n",
      "\u001b[1;32mc:\\program files\\python38\\lib\\site-packages\\vk_api\\vk_api.py\u001b[0m in \u001b[0;36mauth\u001b[1;34m(self, reauth, token_only)\u001b[0m\n\u001b[0;32m    178\u001b[0m             \u001b[0mself\u001b[0m\u001b[1;33m.\u001b[0m\u001b[0m_auth_token\u001b[0m\u001b[1;33m(\u001b[0m\u001b[0mreauth\u001b[0m\u001b[1;33m=\u001b[0m\u001b[0mreauth\u001b[0m\u001b[1;33m)\u001b[0m\u001b[1;33m\u001b[0m\u001b[1;33m\u001b[0m\u001b[0m\n\u001b[0;32m    179\u001b[0m         \u001b[1;32melse\u001b[0m\u001b[1;33m:\u001b[0m\u001b[1;33m\u001b[0m\u001b[1;33m\u001b[0m\u001b[0m\n\u001b[1;32m--> 180\u001b[1;33m             \u001b[0mself\u001b[0m\u001b[1;33m.\u001b[0m\u001b[0m_auth_cookies\u001b[0m\u001b[1;33m(\u001b[0m\u001b[0mreauth\u001b[0m\u001b[1;33m=\u001b[0m\u001b[0mreauth\u001b[0m\u001b[1;33m)\u001b[0m\u001b[1;33m\u001b[0m\u001b[1;33m\u001b[0m\u001b[0m\n\u001b[0m\u001b[0;32m    181\u001b[0m \u001b[1;33m\u001b[0m\u001b[0m\n\u001b[0;32m    182\u001b[0m     \u001b[1;32mdef\u001b[0m \u001b[0m_auth_cookies\u001b[0m\u001b[1;33m(\u001b[0m\u001b[0mself\u001b[0m\u001b[1;33m,\u001b[0m \u001b[0mreauth\u001b[0m\u001b[1;33m=\u001b[0m\u001b[1;32mFalse\u001b[0m\u001b[1;33m)\u001b[0m\u001b[1;33m:\u001b[0m\u001b[1;33m\u001b[0m\u001b[1;33m\u001b[0m\u001b[0m\n",
      "\u001b[1;32mc:\\program files\\python38\\lib\\site-packages\\vk_api\\vk_api.py\u001b[0m in \u001b[0;36m_auth_cookies\u001b[1;34m(self, reauth)\u001b[0m\n\u001b[0;32m    198\u001b[0m             )\n\u001b[0;32m    199\u001b[0m \u001b[1;33m\u001b[0m\u001b[0m\n\u001b[1;32m--> 200\u001b[1;33m             \u001b[0mself\u001b[0m\u001b[1;33m.\u001b[0m\u001b[0m_vk_login\u001b[0m\u001b[1;33m(\u001b[0m\u001b[1;33m)\u001b[0m\u001b[1;33m\u001b[0m\u001b[1;33m\u001b[0m\u001b[0m\n\u001b[0m\u001b[0;32m    201\u001b[0m         \u001b[1;32melse\u001b[0m\u001b[1;33m:\u001b[0m\u001b[1;33m\u001b[0m\u001b[1;33m\u001b[0m\u001b[0m\n\u001b[0;32m    202\u001b[0m             \u001b[0mself\u001b[0m\u001b[1;33m.\u001b[0m\u001b[0m_pass_security_check\u001b[0m\u001b[1;33m(\u001b[0m\u001b[1;33m)\u001b[0m\u001b[1;33m\u001b[0m\u001b[1;33m\u001b[0m\u001b[0m\n",
      "\u001b[1;32mc:\\program files\\python38\\lib\\site-packages\\vk_api\\vk_api.py\u001b[0m in \u001b[0;36m_vk_login\u001b[1;34m(self, captcha_sid, captcha_key)\u001b[0m\n\u001b[0;32m    299\u001b[0m             \u001b[0mresponse\u001b[0m \u001b[1;33m=\u001b[0m \u001b[0mself\u001b[0m\u001b[1;33m.\u001b[0m\u001b[0mhttp\u001b[0m\u001b[1;33m.\u001b[0m\u001b[0mget\u001b[0m\u001b[1;33m(\u001b[0m\u001b[1;34m'https://vk.com/login?act=authcheck'\u001b[0m\u001b[1;33m)\u001b[0m\u001b[1;33m\u001b[0m\u001b[1;33m\u001b[0m\u001b[0m\n\u001b[0;32m    300\u001b[0m \u001b[1;33m\u001b[0m\u001b[0m\n\u001b[1;32m--> 301\u001b[1;33m             \u001b[0mself\u001b[0m\u001b[1;33m.\u001b[0m\u001b[0m_pass_twofactor\u001b[0m\u001b[1;33m(\u001b[0m\u001b[0mresponse\u001b[0m\u001b[1;33m)\u001b[0m\u001b[1;33m\u001b[0m\u001b[1;33m\u001b[0m\u001b[0m\n\u001b[0m\u001b[0;32m    302\u001b[0m \u001b[1;33m\u001b[0m\u001b[0m\n\u001b[0;32m    303\u001b[0m         \u001b[1;32mif\u001b[0m \u001b[0mself\u001b[0m\u001b[1;33m.\u001b[0m\u001b[0m_sid\u001b[0m\u001b[1;33m:\u001b[0m\u001b[1;33m\u001b[0m\u001b[1;33m\u001b[0m\u001b[0m\n",
      "\u001b[1;32mc:\\program files\\python38\\lib\\site-packages\\vk_api\\vk_api.py\u001b[0m in \u001b[0;36m_pass_twofactor\u001b[1;34m(self, auth_response)\u001b[0m\n\u001b[0;32m    325\u001b[0m             \u001b[1;32mraise\u001b[0m \u001b[0mTwoFactorError\u001b[0m\u001b[1;33m(\u001b[0m\u001b[0mget_unknown_exc_str\u001b[0m\u001b[1;33m(\u001b[0m\u001b[1;34m'2FA; no hash'\u001b[0m\u001b[1;33m)\u001b[0m\u001b[1;33m)\u001b[0m\u001b[1;33m\u001b[0m\u001b[1;33m\u001b[0m\u001b[0m\n\u001b[0;32m    326\u001b[0m \u001b[1;33m\u001b[0m\u001b[0m\n\u001b[1;32m--> 327\u001b[1;33m         \u001b[0mcode\u001b[0m\u001b[1;33m,\u001b[0m \u001b[0mremember_device\u001b[0m \u001b[1;33m=\u001b[0m \u001b[0mself\u001b[0m\u001b[1;33m.\u001b[0m\u001b[0merror_handlers\u001b[0m\u001b[1;33m[\u001b[0m\u001b[0mTWOFACTOR_CODE\u001b[0m\u001b[1;33m]\u001b[0m\u001b[1;33m(\u001b[0m\u001b[1;33m)\u001b[0m\u001b[1;33m\u001b[0m\u001b[1;33m\u001b[0m\u001b[0m\n\u001b[0m\u001b[0;32m    328\u001b[0m \u001b[1;33m\u001b[0m\u001b[0m\n\u001b[0;32m    329\u001b[0m         values = {\n",
      "\u001b[1;32mc:\\program files\\python38\\lib\\site-packages\\vk_api\\vk_api.py\u001b[0m in \u001b[0;36mauth_handler\u001b[1;34m(self)\u001b[0m\n\u001b[0;32m    577\u001b[0m         \u001b[1;34m\"\"\" Обработчик двухфакторной аутентификации \"\"\"\u001b[0m\u001b[1;33m\u001b[0m\u001b[1;33m\u001b[0m\u001b[0m\n\u001b[0;32m    578\u001b[0m \u001b[1;33m\u001b[0m\u001b[0m\n\u001b[1;32m--> 579\u001b[1;33m         \u001b[1;32mraise\u001b[0m \u001b[0mAuthError\u001b[0m\u001b[1;33m(\u001b[0m\u001b[1;34m'No handler for two-factor authentication'\u001b[0m\u001b[1;33m)\u001b[0m\u001b[1;33m\u001b[0m\u001b[1;33m\u001b[0m\u001b[0m\n\u001b[0m\u001b[0;32m    580\u001b[0m \u001b[1;33m\u001b[0m\u001b[0m\n\u001b[0;32m    581\u001b[0m     \u001b[1;32mdef\u001b[0m \u001b[0mget_api\u001b[0m\u001b[1;33m(\u001b[0m\u001b[0mself\u001b[0m\u001b[1;33m)\u001b[0m\u001b[1;33m:\u001b[0m\u001b[1;33m\u001b[0m\u001b[1;33m\u001b[0m\u001b[0m\n",
      "\u001b[1;31mAuthError\u001b[0m: No handler for two-factor authentication"
     ]
    }
   ],
   "source": [
    "import vk_api\n",
    "\n",
    "vk_session = vk_api.VkApi('+79308038318', 'Hjo4DhBcQUQyU')\n",
    "vk_session.auth()\n",
    "\n",
    "vk = vk_session.get_api()\n",
    "\n",
    "print(vk.wall.post(message='Hello world!'))"
   ]
  },
  {
   "cell_type": "code",
   "execution_count": 32,
   "metadata": {},
   "outputs": [],
   "source": [
    "import requests\n",
    "class VKAuth(object):\n",
    "\n",
    "    def __init__(self, permissions, app_id, api_v, email=None, pswd=None, two_factor_auth=False, security_code=None, auto_access=True):\n",
    "        \"\"\"\n",
    "        Args:\n",
    "            permissions: list of Strings with permissions to get from API\n",
    "            app_id: (String) vk app id that one can get from vk.com\n",
    "            api_v: (String) vk API version\n",
    "        \"\"\"\n",
    "\n",
    "        self.session        = requests.Session()\n",
    "        self.form_parser    = FormParser()\n",
    "        self.user_id        = None\n",
    "        self.access_token   = None\n",
    "        self.response       = None\n",
    "\n",
    "        self.permissions    = permissions\n",
    "        self.api_v          = api_v\n",
    "        self.app_id         = app_id\n",
    "        self.two_factor_auth= two_factor_auth\n",
    "        self.security_code  = security_code\n",
    "        self.email          = email\n",
    "        self.pswd           = pswd\n",
    "        self.auto_access    = auto_access\n",
    "\n",
    "        if security_code != None and two_factor_auth == False:\n",
    "            raise RuntimeError('Security code provided for non-two-factor authorization')\n",
    "    \n",
    "    def authorize(self):\n",
    "        api_auth_url = 'https://oauth.vk.com/authorize'\n",
    "        app_id = self.app_id\n",
    "        permissions = self.permissions\n",
    "        redirect_uri = 'https://oauth.vk.com/blank.html'\n",
    "        display = 'wap'\n",
    "        api_version = self.api_v\n",
    "\n",
    "        auth_url_template = '{0}?client_id={1}&scope={2}&redirect_uri={3}&display={4}&v={5}&response_type=token'\n",
    "        auth_url = auth_url_template.format(api_auth_url, app_id, ','.join(permissions), redirect_uri, display, api_version)\n",
    "\n",
    "        self.response = self.session.get(auth_url)\n",
    "\n",
    "        # look for <form> element in response html and parse it\n",
    "        if not self._parse_form():\n",
    "            raise RuntimeError('No <form> element found. Please, check url address')\n",
    "        else:\n",
    "            # try to log in with email and password (stored or expected to be entered)\n",
    "            while not self._log_in():\n",
    "                pass;\n",
    "\n",
    "            # handling two-factor authentication\n",
    "            # expecting a security code to enter here\n",
    "            if self.two_factor_auth:\n",
    "                self._two_fact_auth()\n",
    "    \n",
    "    def _log_in(self):\n",
    "\n",
    "        if self.email == None:\n",
    "            self.email = ''\n",
    "            while self.email.strip() == '':\n",
    "                self.email = input('Enter an email to log in: ')\n",
    "\n",
    "        if self.pswd == None:\n",
    "            self.pswd = ''\n",
    "            while self.pswd.strip() == '':\n",
    "                self.pswd = getpass.getpass('Enter the password: ')\n",
    "\n",
    "        self._submit_form({'email': self.email, 'pass': self.pswd})\n",
    "        if not self._parse_form():\n",
    "            raise RuntimeError('No <form> element found. Please, check url address')\n",
    "\n",
    "        # if wrong email or password\n",
    "        if 'pass' in self.form_parser.params:\n",
    "            print('Wrong email or password')\n",
    "            self.email = None\n",
    "            self.pswd = None\n",
    "            return False\n",
    "        elif 'code' in self.form_parser.params and not self.two_factor_auth:\n",
    "            raise RuntimeError('Two-factor authentication expected from VK.\\nChange `two_factor_auth` to `True` and provide a security code.')\n",
    "        else:\n",
    "            return True\n",
    "        \n",
    "    def _two_fact_auth(self):\n",
    "\n",
    "        prefix = 'https://m.vk.com'\n",
    "        if prefix not in self.form_parser.url:\n",
    "            self.form_parser.url = prefix + self.form_parser.url\n",
    "\n",
    "        if self.security_code == None:\n",
    "            self.security_code = input('Enter security code for two-factor authentication: ')\n",
    "\n",
    "        self._submit_form({'code': self.security_code})\n",
    "\n",
    "        if not self._parse_form():\n",
    "            raise RuntimeError('No <form> element found. Please, check url address')\n",
    "    \n",
    "    def _allow_access(self):\n",
    "        parser = self.form_parser\n",
    "\n",
    "        if 'submit_allow_access' in parser.params and 'grant_access' in parser.url:\n",
    "            if not self.auto_access:\n",
    "                answer = ''\n",
    "                msg =   'Application needs access to the following details in your profile:\\n' + \\\n",
    "                        str(self.permissions) + '\\n' + \\\n",
    "                        'Allow it to use them? (yes or no)'\n",
    "\n",
    "                attempts = 5\n",
    "                while answer not in ['yes', 'no'] and attempts > 0:\n",
    "                    answer = input(msg).lower().strip()\n",
    "                    attempts-=1\n",
    "\n",
    "                if answer == 'no' or attempts == 0:\n",
    "                    self.form_parser.url = self.form_parser.denial_url\n",
    "                    print('Access denied')\n",
    "\n",
    "            self._submit_form({})\n",
    "    \n",
    "    def _get_params(self):\n",
    "        try:\n",
    "            params = self.response.url.split('#')[1].split('&')\n",
    "            self.access_token = params[0].split('=')[1]\n",
    "            self.user_id = params[2].split('=')[1]\n",
    "        except IndexError(e):\n",
    "            print(e)\n",
    "            print('Coudln\\'t fetch token')"
   ]
  },
  {
   "cell_type": "code",
   "execution_count": 35,
   "metadata": {},
   "outputs": [
    {
     "ename": "NameError",
     "evalue": "name 'FormParser' is not defined",
     "output_type": "error",
     "traceback": [
      "\u001b[1;31m---------------------------------------------------------------------------\u001b[0m",
      "\u001b[1;31mNameError\u001b[0m                                 Traceback (most recent call last)",
      "\u001b[1;32m~\\AppData\\Local\\Temp/ipykernel_3712/3711777212.py\u001b[0m in \u001b[0;36m<module>\u001b[1;34m\u001b[0m\n\u001b[1;32m----> 1\u001b[1;33m \u001b[0mvk\u001b[0m \u001b[1;33m=\u001b[0m \u001b[0mVKAuth\u001b[0m\u001b[1;33m(\u001b[0m\u001b[1;33m[\u001b[0m\u001b[1;34m'photos'\u001b[0m\u001b[1;33m]\u001b[0m\u001b[1;33m,\u001b[0m \u001b[1;34m'7969632'\u001b[0m\u001b[1;33m,\u001b[0m \u001b[1;34m'5.52'\u001b[0m\u001b[1;33m)\u001b[0m\u001b[1;33m\u001b[0m\u001b[1;33m\u001b[0m\u001b[0m\n\u001b[0m\u001b[0;32m      2\u001b[0m \u001b[0mvk\u001b[0m\u001b[1;33m.\u001b[0m\u001b[0mauth\u001b[0m\u001b[1;33m(\u001b[0m\u001b[1;33m)\u001b[0m\u001b[1;33m\u001b[0m\u001b[1;33m\u001b[0m\u001b[0m\n\u001b[0;32m      3\u001b[0m \u001b[1;33m\u001b[0m\u001b[0m\n\u001b[0;32m      4\u001b[0m \u001b[0maccess_token\u001b[0m \u001b[1;33m=\u001b[0m \u001b[0mvk\u001b[0m\u001b[1;33m.\u001b[0m\u001b[0mget_token\u001b[0m\u001b[1;33m(\u001b[0m\u001b[1;33m)\u001b[0m\u001b[1;33m\u001b[0m\u001b[1;33m\u001b[0m\u001b[0m\n\u001b[0;32m      5\u001b[0m \u001b[0muser_id\u001b[0m \u001b[1;33m=\u001b[0m \u001b[0mvk\u001b[0m\u001b[1;33m.\u001b[0m\u001b[0mget_user_id\u001b[0m\u001b[1;33m(\u001b[0m\u001b[1;33m)\u001b[0m\u001b[1;33m\u001b[0m\u001b[1;33m\u001b[0m\u001b[0m\n",
      "\u001b[1;32m~\\AppData\\Local\\Temp/ipykernel_3712/2878835257.py\u001b[0m in \u001b[0;36m__init__\u001b[1;34m(self, permissions, app_id, api_v, email, pswd, two_factor_auth, security_code, auto_access)\u001b[0m\n\u001b[0;32m     11\u001b[0m \u001b[1;33m\u001b[0m\u001b[0m\n\u001b[0;32m     12\u001b[0m         \u001b[0mself\u001b[0m\u001b[1;33m.\u001b[0m\u001b[0msession\u001b[0m        \u001b[1;33m=\u001b[0m \u001b[0mrequests\u001b[0m\u001b[1;33m.\u001b[0m\u001b[0mSession\u001b[0m\u001b[1;33m(\u001b[0m\u001b[1;33m)\u001b[0m\u001b[1;33m\u001b[0m\u001b[1;33m\u001b[0m\u001b[0m\n\u001b[1;32m---> 13\u001b[1;33m         \u001b[0mself\u001b[0m\u001b[1;33m.\u001b[0m\u001b[0mform_parser\u001b[0m    \u001b[1;33m=\u001b[0m \u001b[0mFormParser\u001b[0m\u001b[1;33m(\u001b[0m\u001b[1;33m)\u001b[0m\u001b[1;33m\u001b[0m\u001b[1;33m\u001b[0m\u001b[0m\n\u001b[0m\u001b[0;32m     14\u001b[0m         \u001b[0mself\u001b[0m\u001b[1;33m.\u001b[0m\u001b[0muser_id\u001b[0m        \u001b[1;33m=\u001b[0m \u001b[1;32mNone\u001b[0m\u001b[1;33m\u001b[0m\u001b[1;33m\u001b[0m\u001b[0m\n\u001b[0;32m     15\u001b[0m         \u001b[0mself\u001b[0m\u001b[1;33m.\u001b[0m\u001b[0maccess_token\u001b[0m   \u001b[1;33m=\u001b[0m \u001b[1;32mNone\u001b[0m\u001b[1;33m\u001b[0m\u001b[1;33m\u001b[0m\u001b[0m\n",
      "\u001b[1;31mNameError\u001b[0m: name 'FormParser' is not defined"
     ]
    }
   ],
   "source": [
    "vk = VKAuth(['photos'], '7969632', '5.52')\n",
    "vk.auth()\n",
    "\n",
    "access_token = vk.get_token()\n",
    "user_id = vk.get_user_id()"
   ]
  },
  {
   "cell_type": "code",
   "execution_count": null,
   "metadata": {},
   "outputs": [],
   "source": []
  },
  {
   "cell_type": "markdown",
   "metadata": {},
   "source": [
    "Никто, естественно, не учит методы наизусть. Всегда и везде есть (ну или должна быть) документация https://vk.com/dev/methods"
   ]
  },
  {
   "cell_type": "markdown",
   "metadata": {},
   "source": [
    "Мы разберем только основные методы, если нужно что-то нестандартное, то стоит сходить в документацию"
   ]
  },
  {
   "cell_type": "markdown",
   "metadata": {},
   "source": [
    "#### Найти пользователя по id:"
   ]
  },
  {
   "cell_type": "code",
   "execution_count": 13,
   "metadata": {},
   "outputs": [
    {
     "ename": "VkAPIError",
     "evalue": "5. User authorization failed: access_token was given to another ip address.. request_params = {'method': 'users.get', 'oauth': '1', 'user_ids': '1,2,lilas_pourpre', 'fields': 'photo_id,sex,bdate,city,country,home_town', 'v': '5.124'}",
     "output_type": "error",
     "traceback": [
      "\u001b[1;31m---------------------------------------------------------------------------\u001b[0m",
      "\u001b[1;31mVkAPIError\u001b[0m                                Traceback (most recent call last)",
      "\u001b[1;32m~\\AppData\\Local\\Temp/ipykernel_3712/2243448401.py\u001b[0m in \u001b[0;36m<module>\u001b[1;34m\u001b[0m\n\u001b[1;32m----> 1\u001b[1;33m \u001b[0mpeople\u001b[0m \u001b[1;33m=\u001b[0m \u001b[0mvk_api\u001b[0m\u001b[1;33m.\u001b[0m\u001b[0musers\u001b[0m\u001b[1;33m.\u001b[0m\u001b[0mget\u001b[0m\u001b[1;33m(\u001b[0m\u001b[0muser_ids\u001b[0m\u001b[1;33m=\u001b[0m\u001b[1;33m[\u001b[0m\u001b[1;36m1\u001b[0m\u001b[1;33m,\u001b[0m \u001b[1;36m2\u001b[0m\u001b[1;33m,\u001b[0m \u001b[1;34m'lilas_pourpre'\u001b[0m\u001b[1;33m]\u001b[0m\u001b[1;33m,\u001b[0m \u001b[0mfields\u001b[0m\u001b[1;33m=\u001b[0m\u001b[1;33m[\u001b[0m\u001b[1;34m\"photo_id\"\u001b[0m\u001b[1;33m,\u001b[0m \u001b[1;34m\"sex\"\u001b[0m\u001b[1;33m,\u001b[0m \u001b[1;34m\"bdate\"\u001b[0m\u001b[1;33m,\u001b[0m \u001b[1;34m\"city\"\u001b[0m\u001b[1;33m,\u001b[0m \u001b[1;34m\"country\"\u001b[0m\u001b[1;33m,\u001b[0m \u001b[1;34m\"home_town\"\u001b[0m\u001b[1;33m]\u001b[0m\u001b[1;33m,\u001b[0m \u001b[0mv\u001b[0m\u001b[1;33m=\u001b[0m\u001b[1;36m5.124\u001b[0m\u001b[1;33m)\u001b[0m\u001b[1;33m\u001b[0m\u001b[1;33m\u001b[0m\u001b[0m\n\u001b[0m",
      "\u001b[1;32mc:\\program files\\python38\\lib\\site-packages\\vk\\api.py\u001b[0m in \u001b[0;36m__call__\u001b[1;34m(self, **method_args)\u001b[0m\n\u001b[0;32m    171\u001b[0m     \u001b[1;32mdef\u001b[0m \u001b[0m__call__\u001b[0m\u001b[1;33m(\u001b[0m\u001b[0mself\u001b[0m\u001b[1;33m,\u001b[0m \u001b[1;33m**\u001b[0m\u001b[0mmethod_args\u001b[0m\u001b[1;33m)\u001b[0m\u001b[1;33m:\u001b[0m\u001b[1;33m\u001b[0m\u001b[1;33m\u001b[0m\u001b[0m\n\u001b[0;32m    172\u001b[0m         \u001b[0mself\u001b[0m\u001b[1;33m.\u001b[0m\u001b[0m_method_args\u001b[0m \u001b[1;33m=\u001b[0m \u001b[0mmethod_args\u001b[0m\u001b[1;33m\u001b[0m\u001b[1;33m\u001b[0m\u001b[0m\n\u001b[1;32m--> 173\u001b[1;33m         \u001b[1;32mreturn\u001b[0m \u001b[0mself\u001b[0m\u001b[1;33m.\u001b[0m\u001b[0m_api\u001b[0m\u001b[1;33m.\u001b[0m\u001b[0m_session\u001b[0m\u001b[1;33m.\u001b[0m\u001b[0mmake_request\u001b[0m\u001b[1;33m(\u001b[0m\u001b[0mself\u001b[0m\u001b[1;33m)\u001b[0m\u001b[1;33m\u001b[0m\u001b[1;33m\u001b[0m\u001b[0m\n\u001b[0m\u001b[0;32m    174\u001b[0m \u001b[1;33m\u001b[0m\u001b[0m\n\u001b[0;32m    175\u001b[0m \u001b[1;33m\u001b[0m\u001b[0m\n",
      "\u001b[1;32mc:\\program files\\python38\\lib\\site-packages\\vk\\api.py\u001b[0m in \u001b[0;36mmake_request\u001b[1;34m(self, method_request, captcha_response)\u001b[0m\n\u001b[0;32m    100\u001b[0m \u001b[1;33m\u001b[0m\u001b[0m\n\u001b[0;32m    101\u001b[0m                 \u001b[1;32melse\u001b[0m\u001b[1;33m:\u001b[0m\u001b[1;33m\u001b[0m\u001b[1;33m\u001b[0m\u001b[0m\n\u001b[1;32m--> 102\u001b[1;33m                     \u001b[1;32mraise\u001b[0m \u001b[0merror\u001b[0m\u001b[1;33m\u001b[0m\u001b[1;33m\u001b[0m\u001b[0m\n\u001b[0m\u001b[0;32m    103\u001b[0m \u001b[1;33m\u001b[0m\u001b[0m\n\u001b[0;32m    104\u001b[0m     \u001b[1;32mdef\u001b[0m \u001b[0msend_api_request\u001b[0m\u001b[1;33m(\u001b[0m\u001b[0mself\u001b[0m\u001b[1;33m,\u001b[0m \u001b[0mrequest\u001b[0m\u001b[1;33m,\u001b[0m \u001b[0mcaptcha_response\u001b[0m\u001b[1;33m=\u001b[0m\u001b[1;32mNone\u001b[0m\u001b[1;33m)\u001b[0m\u001b[1;33m:\u001b[0m\u001b[1;33m\u001b[0m\u001b[1;33m\u001b[0m\u001b[0m\n",
      "\u001b[1;31mVkAPIError\u001b[0m: 5. User authorization failed: access_token was given to another ip address.. request_params = {'method': 'users.get', 'oauth': '1', 'user_ids': '1,2,lilas_pourpre', 'fields': 'photo_id,sex,bdate,city,country,home_town', 'v': '5.124'}"
     ]
    }
   ],
   "source": [
    "people = vk_api.users.get(user_ids=[1, 2, 'lilas_pourpre'], fields=[\"photo_id\", \"sex\", \"bdate\", \"city\", \"country\", \"home_town\"], v=5.124)"
   ]
  },
  {
   "cell_type": "code",
   "execution_count": 9,
   "metadata": {},
   "outputs": [
    {
     "ename": "NameError",
     "evalue": "name 'people' is not defined",
     "output_type": "error",
     "traceback": [
      "\u001b[1;31m---------------------------------------------------------------------------\u001b[0m",
      "\u001b[1;31mNameError\u001b[0m                                 Traceback (most recent call last)",
      "\u001b[1;32m~\\AppData\\Local\\Temp/ipykernel_3712/3843980225.py\u001b[0m in \u001b[0;36m<module>\u001b[1;34m\u001b[0m\n\u001b[1;32m----> 1\u001b[1;33m \u001b[1;32mfor\u001b[0m \u001b[0mperson\u001b[0m \u001b[1;32min\u001b[0m \u001b[0mpeople\u001b[0m\u001b[1;33m:\u001b[0m\u001b[1;33m\u001b[0m\u001b[1;33m\u001b[0m\u001b[0m\n\u001b[0m\u001b[0;32m      2\u001b[0m     \u001b[0mprint\u001b[0m\u001b[1;33m(\u001b[0m\u001b[0mperson\u001b[0m\u001b[1;33m[\u001b[0m\u001b[1;34m'id'\u001b[0m\u001b[1;33m]\u001b[0m\u001b[1;33m,\u001b[0m \u001b[0mperson\u001b[0m\u001b[1;33m[\u001b[0m\u001b[1;34m'last_name'\u001b[0m\u001b[1;33m]\u001b[0m\u001b[1;33m,\u001b[0m \u001b[0mperson\u001b[0m\u001b[1;33m[\u001b[0m\u001b[1;34m'first_name'\u001b[0m\u001b[1;33m]\u001b[0m\u001b[1;33m)\u001b[0m\u001b[1;33m\u001b[0m\u001b[1;33m\u001b[0m\u001b[0m\n",
      "\u001b[1;31mNameError\u001b[0m: name 'people' is not defined"
     ]
    }
   ],
   "source": [
    "for person in people:\n",
    "    print(person['id'], person['last_name'], person['first_name'])"
   ]
  },
  {
   "cell_type": "markdown",
   "metadata": {},
   "source": [
    "#### Найти участников сообщества:"
   ]
  },
  {
   "cell_type": "code",
   "execution_count": 18,
   "metadata": {},
   "outputs": [],
   "source": [
    "def get_members(groupid, fields=('sex', 'bdate', 'city', 'country', 'domain')):\n",
    "    first = vk_api.groups.getMembers(group_id=groupid, fields=fields, v=5.92)  # Первое выполнение метода\n",
    "    data = first[\"items\"]  # Присваиваем переменной первую тысячу id'шников\n",
    "    count = first[\"count\"] // 1000  # Присваиваем переменной количество тысяч участников\n",
    "    # С каждым проходом цикла смещение offset увеличивается на тысячу\n",
    "    # и еще тысяча id'шников добавляется к нашему списку.\n",
    "    for i in range(1, count+1):  \n",
    "        data = data + vk_api.groups.getMembers(group_id=groupid, fields=fields, v=5.92, offset=i*1000)[\"items\"]\n",
    "        \n",
    "    return data"
   ]
  },
  {
   "cell_type": "code",
   "execution_count": 19,
   "metadata": {},
   "outputs": [
    {
     "data": {
      "text/plain": [
       "104637"
      ]
     },
     "execution_count": 19,
     "metadata": {},
     "output_type": "execute_result"
    }
   ],
   "source": [
    "sbp4_members = get_members(\"sbp4band\")\n",
    "len(sbp4_members)"
   ]
  },
  {
   "cell_type": "code",
   "execution_count": 20,
   "metadata": {},
   "outputs": [
    {
     "data": {
      "text/plain": [
       "[{'id': 10,\n",
       "  'first_name': 'Alexander',\n",
       "  'last_name': 'Kuznetsov',\n",
       "  'is_closed': False,\n",
       "  'can_access_closed': True,\n",
       "  'sex': 2,\n",
       "  'domain': 'kuzya',\n",
       "  'city': {'id': 2, 'title': 'Saint Petersburg'},\n",
       "  'country': {'id': 1, 'title': 'Russia'}},\n",
       " {'id': 172,\n",
       "  'first_name': 'Alexey',\n",
       "  'last_name': 'Gorodetsky',\n",
       "  'is_closed': True,\n",
       "  'can_access_closed': False,\n",
       "  'sex': 2,\n",
       "  'domain': 'g_r_d',\n",
       "  'bdate': '22.3.1985',\n",
       "  'city': {'id': 2, 'title': 'Saint Petersburg'},\n",
       "  'country': {'id': 1, 'title': 'Russia'}},\n",
       " {'id': 201,\n",
       "  'first_name': 'Ignaty',\n",
       "  'last_name': 'Dyakov',\n",
       "  'is_closed': False,\n",
       "  'can_access_closed': True,\n",
       "  'sex': 2,\n",
       "  'domain': 'id201',\n",
       "  'bdate': '3.10.1983',\n",
       "  'city': {'id': 2, 'title': 'Saint Petersburg'},\n",
       "  'country': {'id': 1, 'title': 'Russia'}},\n",
       " {'id': 272,\n",
       "  'first_name': 'Pavel',\n",
       "  'last_name': 'Morzhov',\n",
       "  'is_closed': False,\n",
       "  'can_access_closed': True,\n",
       "  'sex': 2,\n",
       "  'domain': 'id272',\n",
       "  'bdate': '23.1.1986',\n",
       "  'city': {'id': 2, 'title': 'Saint Petersburg'},\n",
       "  'country': {'id': 1, 'title': 'Russia'}},\n",
       " {'id': 490,\n",
       "  'first_name': 'Elena',\n",
       "  'last_name': 'Yaschike',\n",
       "  'is_closed': True,\n",
       "  'can_access_closed': False,\n",
       "  'sex': 1,\n",
       "  'domain': 'id490',\n",
       "  'bdate': '30.11',\n",
       "  'city': {'id': 2, 'title': 'Saint Petersburg'},\n",
       "  'country': {'id': 1, 'title': 'Russia'}},\n",
       " {'id': 591,\n",
       "  'first_name': 'Ivan',\n",
       "  'last_name': 'Zhuravlev',\n",
       "  'is_closed': False,\n",
       "  'can_access_closed': True,\n",
       "  'sex': 2,\n",
       "  'domain': 'matrich',\n",
       "  'bdate': '28.10.1986',\n",
       "  'city': {'id': 2, 'title': 'Saint Petersburg'},\n",
       "  'country': {'id': 1, 'title': 'Russia'}},\n",
       " {'id': 636,\n",
       "  'first_name': 'Alexander',\n",
       "  'last_name': 'Belyaev',\n",
       "  'is_closed': False,\n",
       "  'can_access_closed': True,\n",
       "  'sex': 2,\n",
       "  'domain': 'id636',\n",
       "  'bdate': '1.5.1989',\n",
       "  'city': {'id': 12, 'title': 'Pushkin'},\n",
       "  'country': {'id': 1, 'title': 'Russia'}},\n",
       " {'id': 674,\n",
       "  'first_name': 'Sergey',\n",
       "  'last_name': 'Yakimov',\n",
       "  'is_closed': False,\n",
       "  'can_access_closed': True,\n",
       "  'sex': 2,\n",
       "  'domain': 's.yakimov',\n",
       "  'bdate': '30.6',\n",
       "  'city': {'id': 99, 'title': 'Novosibirsk'},\n",
       "  'country': {'id': 1, 'title': 'Russia'}},\n",
       " {'id': 975,\n",
       "  'first_name': 'DELETED',\n",
       "  'last_name': '',\n",
       "  'deactivated': 'deleted',\n",
       "  'sex': 2,\n",
       "  'domain': 'id975'},\n",
       " {'id': 1004,\n",
       "  'first_name': 'Ksenia',\n",
       "  'last_name': 'Valdman',\n",
       "  'is_closed': False,\n",
       "  'can_access_closed': True,\n",
       "  'sex': 1,\n",
       "  'domain': 'id1004',\n",
       "  'bdate': '23.9',\n",
       "  'city': {'id': 2, 'title': 'Saint Petersburg'},\n",
       "  'country': {'id': 1, 'title': 'Russia'}}]"
      ]
     },
     "execution_count": 20,
     "metadata": {},
     "output_type": "execute_result"
    }
   ],
   "source": [
    "sbp4_members[:10]"
   ]
  },
  {
   "cell_type": "markdown",
   "metadata": {},
   "source": [
    "#### Выгрузить посты из сообщества:"
   ]
  },
  {
   "cell_type": "code",
   "execution_count": 21,
   "metadata": {},
   "outputs": [],
   "source": [
    "def get_posts(owner_id):\n",
    "    first = vk_api.wall.get(domain=owner_id, count=100, filter=\"owner\", v=5.124)\n",
    "    data = first[\"items\"]  # Присваиваем переменной первую тысячу id'шников\n",
    "    count = first[\"count\"] // 100  # Присваиваем переменной количество тысяч участников\n",
    "    # С каждым проходом цикла смещение offset увеличивается на тысячу\n",
    "    # и еще тысяча id'шников добавляется к нашему списку.\n",
    "    for i in range(1, count+1):  \n",
    "        data += vk_api.wall.get(domain=owner_id, v=5.124, filter=\"owner\", count=100, offset=i*100)[\"items\"]\n",
    "    return [i['text'] for i in data]"
   ]
  },
  {
   "cell_type": "code",
   "execution_count": 22,
   "metadata": {},
   "outputs": [
    {
     "data": {
      "text/plain": [
       "1109"
      ]
     },
     "execution_count": 22,
     "metadata": {},
     "output_type": "execute_result"
    }
   ],
   "source": [
    "sbp4_posts = get_posts(\"sbp4band\")\n",
    "len(sbp4_posts)"
   ]
  },
  {
   "cell_type": "code",
   "execution_count": 25,
   "metadata": {},
   "outputs": [
    {
     "name": "stdout",
     "output_type": "stream",
     "text": [
      "Новый альбом! СБПЧ “Всё равно” (2020)! \n",
      "Слушайте, где хотите: https://band.link/vseravno_sbp4\n",
      "День ушел искать рассвет! Мы записали кавер на песню Кристины Орбакайте «Позови меня». Слушайте его в специальном плейлисте #ОсвежиМузыкуTicTac в Spotify! \n",
      "Ссылка: https://open.spotify.com/playlist/60G7SYsgO9RxVsAYoIoF5B\n",
      "#ad\n",
      "13 сентября будем ходить ходуном. Прямо во дворе Пауэрхауса. Всё, как обычно, только соскучившись. Новые песни, старые песни. Прыжки и кувырки. Радость и смех. \n",
      "Такое надо в корне пресекать!\n",
      "Билеты: https://sbp4band.ticketscloud.org\n",
      "\n",
      "Пожалуйста, планируйте приобретение билетов заранее. Высока вероятность, что продажа на входе осуществляться не будет\n",
      "Эй, вы не представляете! \n",
      "Что вы пропускаете!\n",
      "Завтра! Новый альбом СБПЧ \"Всё равно\"!\n",
      "Я подумал, вы под грибами\n",
      "27 августа выходит новый альбом СБПЧ «Всё равно».\n",
      "27 августа выйдет наш новый альбом \"Всё равно\". А пока вы можете оформить предзаказ. И послушать последнюю песню — \"Холодный день\". \n",
      "http://band.link/SBP4_VSERAVNO\n",
      "Через 20 минут смотрите наш диджей сет в прямом эфире в рамках проекта [club197239414|Hyper Club] от [club152229991|glo] здесь или на сайте: www.hyper-club.ru\n",
      "\n",
      "#реклама 18+\n",
      "Киноальманах \"J Hotel: Музыкальные номера\"! Мы там впервые играем новую песню \"Холодный день\". Спасибо всем причастным. Enjoy!\n",
      "31 июля состоится онлайн-премьера киноальманаха \"J Hotel: Музыкальные номера\". Мы там с другими классными группами впервые исполняем совсем новые песни. Наша называется \"Холодный день\". Ссылка на событие в комментариях.\n",
      "Теперь фильм про то, как мы записывали альбом в Африке можно посмотреть и на КиноПоиске! А альбом тоже скоро подъедет.\n",
      "https://www.kinopoisk.ru/series/1392553/\n"
     ]
    }
   ],
   "source": [
    "for post in sbp4_posts[:10]:\n",
    "    print(post)"
   ]
  },
  {
   "cell_type": "markdown",
   "metadata": {},
   "source": [
    "#### Поиск пабликов по запросу:"
   ]
  },
  {
   "cell_type": "code",
   "execution_count": null,
   "metadata": {},
   "outputs": [],
   "source": [
    "import time"
   ]
  },
  {
   "cell_type": "code",
   "execution_count": null,
   "metadata": {},
   "outputs": [],
   "source": [
    "# https://vkhost.github.io/\n",
    "\n",
    "personal_token = \"\"\n",
    "session = vk.Session(access_token=personal_token)  # Авторизация\n",
    "vk_api = vk.API(session)"
   ]
  },
  {
   "cell_type": "markdown",
   "metadata": {},
   "source": [
    "Обратите внимание — даже при использовании параметра offset для получения информации доступны только первые 1000 результатов."
   ]
  },
  {
   "cell_type": "code",
   "execution_count": null,
   "metadata": {},
   "outputs": [],
   "source": [
    "def get_groups(query):\n",
    "    first = vk_api.groups.search(q=query, count=1000, type=\"group\", v=5.124)\n",
    "    data = first[\"items\"]  # Присваиваем переменной первую тысячу id'шников\n",
    "    count = first[\"count\"]\n",
    "    return [(i['name'], i['id']) for i in data]"
   ]
  },
  {
   "cell_type": "code",
   "execution_count": null,
   "metadata": {},
   "outputs": [],
   "source": [
    "found_groups = get_groups(\"hip-hop\")\n",
    "len(found_groups)"
   ]
  },
  {
   "cell_type": "markdown",
   "metadata": {},
   "source": [
    "Великолепно. Мы собрали информацию по подписчикам, выгрузили все посты паблика и умеем искать паблики по запросу.\n",
    "\n",
    "Теперь наша задача -- почистить данные с помощью регулярок и сохранить в файлы."
   ]
  },
  {
   "cell_type": "markdown",
   "metadata": {},
   "source": [
    "**Немного про ваш проект:** предполагается, что вы таким образом (или вручную) ищете и находите нужные вам паблики, далее для каждого паблика выгружаете нужную информацию: например, подписчиков (смотрите, из какого они города, их пол и возраст, строите графики) и посты (извлекаете информацию о концертах или об альбомах, клипах, и т.д.)"
   ]
  },
  {
   "cell_type": "markdown",
   "metadata": {},
   "source": [
    "#### 1. get_groups\n",
    "\n",
    "Для начала разберемся с найденным списком групп, сохраним его в файл:"
   ]
  },
  {
   "cell_type": "code",
   "execution_count": null,
   "metadata": {},
   "outputs": [],
   "source": [
    "# our code here"
   ]
  },
  {
   "cell_type": "markdown",
   "metadata": {},
   "source": [
    "Теперь вы всегда можете его заново открыть и использовать в дальнейшем"
   ]
  },
  {
   "cell_type": "markdown",
   "metadata": {},
   "source": [
    "#### 2. get_members\n",
    "\n",
    "Теперь разберемся с подписчиками"
   ]
  },
  {
   "cell_type": "code",
   "execution_count": null,
   "metadata": {},
   "outputs": [],
   "source": [
    "len(sbp4_members)"
   ]
  },
  {
   "cell_type": "code",
   "execution_count": null,
   "metadata": {},
   "outputs": [],
   "source": [
    "sbp4_members[0]"
   ]
  },
  {
   "cell_type": "code",
   "execution_count": null,
   "metadata": {},
   "outputs": [],
   "source": [
    "# our code here"
   ]
  },
  {
   "cell_type": "markdown",
   "metadata": {},
   "source": [
    "#### 3. get_posts"
   ]
  },
  {
   "cell_type": "markdown",
   "metadata": {},
   "source": [
    "и, наконец, с постами"
   ]
  },
  {
   "cell_type": "code",
   "execution_count": null,
   "metadata": {},
   "outputs": [],
   "source": [
    "from pymystem3 import Mystem"
   ]
  },
  {
   "cell_type": "code",
   "execution_count": null,
   "metadata": {},
   "outputs": [],
   "source": [
    "# your regexps below\n",
    "http_pattern = re.compile(\"your regexp here\")\n",
    "user_tag_pattern = re.compile(\"your regexp here\")"
   ]
  },
  {
   "cell_type": "code",
   "execution_count": null,
   "metadata": {},
   "outputs": [],
   "source": [
    "def clean_text(text):\n",
    "    \"\"\"\n",
    "    удалить ссылки, удалить переводы строк, удалить отметки пользователей\n",
    "    \"\"\"\n",
    "    text = re.sub(http_pattern, \"\", text)\n",
    "    text = re.sub(user_tag_pattern, \"\", text)\n",
    "    text = # your code here (удалить переводы строк)\n",
    "    return text"
   ]
  },
  {
   "cell_type": "code",
   "execution_count": null,
   "metadata": {},
   "outputs": [],
   "source": [
    "def lemmatize_text(text):\n",
    "    m = Mystem()\n",
    "    lemmas = m.lemmatize(text)\n",
    "    lemmatized_text = ''.join(lemmas)\n",
    "    return lemmatized_text"
   ]
  },
  {
   "cell_type": "code",
   "execution_count": null,
   "metadata": {},
   "outputs": [],
   "source": [
    "for post in sbp4_posts:\n",
    "    cleaned = clean_text(post)\n",
    "    print(cleaned)\n",
    "    lemmatized = lemmatize_text(cleaned)\n",
    "    print(lemmatized)\n",
    "    break"
   ]
  },
  {
   "cell_type": "markdown",
   "metadata": {},
   "source": [
    "## Twitter"
   ]
  },
  {
   "cell_type": "code",
   "execution_count": null,
   "metadata": {},
   "outputs": [],
   "source": [
    "import requests\n",
    "from requests_oauthlib import OAuth1\n",
    "url = 'https://api.twitter.com/1.1/account/verify_credentials.json'\n",
    "\n",
    "API_KEY=\"\"\n",
    "API_SECRET=\"\"\n",
    "ACCESS_TOKEN=\"\"\n",
    "ACCESS_TOKEN_SECRET=\"\"\n",
    "\n",
    "auth = OAuth1(API_KEY, API_SECRET, ACCESS_TOKEN, ACCESS_TOKEN_SECRET)\n",
    "requests.get(url, auth=auth)"
   ]
  },
  {
   "cell_type": "code",
   "execution_count": null,
   "metadata": {},
   "outputs": [],
   "source": [
    "account_list = [\"realDonaldTrump\"]"
   ]
  },
  {
   "cell_type": "markdown",
   "metadata": {},
   "source": [
    "Twitter API explicitly says that you cannot retrieve more then 200 tweets from a user per request so this is not a limitation of this particular library you're using but a limitation imposed by Twitter. But keep in mind that this is per request, if you will send multiple requests you can get up to 3200 tweets in total. But this still means that you can't get all tweets, only 3200."
   ]
  },
  {
   "cell_type": "code",
   "execution_count": null,
   "metadata": {},
   "outputs": [],
   "source": [
    "r = requests.get('https://api.twitter.com/1.1/statuses/user_timeline.json?screen_name=realDonaldTrump&count=200', auth=auth).json()\n",
    "for i in r:\n",
    "    print(i['text'])"
   ]
  },
  {
   "cell_type": "code",
   "execution_count": null,
   "metadata": {},
   "outputs": [],
   "source": []
  }
 ],
 "metadata": {
  "kernelspec": {
   "display_name": "Python 3 (ipykernel)",
   "language": "python",
   "name": "python3"
  },
  "language_info": {
   "codemirror_mode": {
    "name": "ipython",
    "version": 3
   },
   "file_extension": ".py",
   "mimetype": "text/x-python",
   "name": "python",
   "nbconvert_exporter": "python",
   "pygments_lexer": "ipython3",
   "version": "3.8.6"
  }
 },
 "nbformat": 4,
 "nbformat_minor": 2
}
