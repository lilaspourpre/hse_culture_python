{
 "cells": [
  {
   "cell_type": "markdown",
   "metadata": {},
   "source": [
    "# Парсинг социальных сетей и регулярные выражения"
   ]
  },
  {
   "cell_type": "markdown",
   "metadata": {},
   "source": [
    "## Регулярные выражения\n",
    "\n",
    "Прежде чем мы приступим к самому интересному -- парсингу соц. сетей, давайте научимся регулярным выражениям за 10 минут."
   ]
  },
  {
   "cell_type": "markdown",
   "metadata": {},
   "source": [
    "переходим **СЮДА**: https://regexone.com/."
   ]
  },
  {
   "cell_type": "markdown",
   "metadata": {},
   "source": [
    "Особым любителям регулярок [сюда](https://alf.nu/RegexGolf).\n",
    "\n",
    "Обязательно к прочтению дома:\n",
    "\n",
    "* [Регулярные выражения, пособие для новичков. Часть 1](https://habr.com/ru/post/115825/)\n",
    "\n",
    "* [Регулярные выражения, пособие для новичков. Часть 2](https://habr.com/ru/post/115436/)\n",
    "\n",
    "* https://ru.wikipedia.org/wiki/Регулярные_выражения"
   ]
  },
  {
   "cell_type": "markdown",
   "metadata": {},
   "source": [
    "Загружаем библиотеку для регулярных выражений:"
   ]
  },
  {
   "cell_type": "code",
   "execution_count": 1,
   "metadata": {},
   "outputs": [],
   "source": [
    "import re"
   ]
  },
  {
   "cell_type": "markdown",
   "metadata": {},
   "source": [
    "С регулярными выражениями мы продолжим работу на следующем занятии, после того, как вы прочитаете эти статьи. Поехали к самому интересному!"
   ]
  },
  {
   "cell_type": "markdown",
   "metadata": {},
   "source": [
    "## VK"
   ]
  },
  {
   "cell_type": "code",
   "execution_count": null,
   "metadata": {},
   "outputs": [],
   "source": [
    "!pip install vk"
   ]
  },
  {
   "cell_type": "code",
   "execution_count": 3,
   "metadata": {
    "scrolled": true
   },
   "outputs": [],
   "source": [
    "import json\n",
    "import vk"
   ]
  },
  {
   "cell_type": "code",
   "execution_count": 4,
   "metadata": {},
   "outputs": [],
   "source": [
    "token = \"7f4f9066e6356a81e20d599617854428970a61e96e39a2a1630562e7307accaa6ffa703987975f62e8e37\"  # Сервисный ключ доступа\n",
    "session = vk.Session(access_token=token)  # Авторизация\n",
    "vk_api = vk.API(session)"
   ]
  },
  {
   "cell_type": "markdown",
   "metadata": {},
   "source": [
    "Никто, естественно, не учит методы наизусть. Всегда и везде есть (ну или должна быть) документация https://vk.com/dev/methods"
   ]
  },
  {
   "cell_type": "markdown",
   "metadata": {},
   "source": [
    "Мы разберем только основные методы, если нужно что-то нестандартное, то стоит сходить в документацию"
   ]
  },
  {
   "cell_type": "markdown",
   "metadata": {},
   "source": [
    "#### Найти пользователя по id:"
   ]
  },
  {
   "cell_type": "code",
   "execution_count": 5,
   "metadata": {},
   "outputs": [
    {
     "ename": "VkAPIError",
     "evalue": "5. User authorization failed: access_token was given to another ip address.. request_params = {'method': 'users.get', 'oauth': '1', 'user_ids': '1,2,lilas_pourpre', 'fields': 'photo_id,sex,bdate,city,country,home_town', 'v': '5.124'}",
     "output_type": "error",
     "traceback": [
      "\u001b[1;31m---------------------------------------------------------------------------\u001b[0m",
      "\u001b[1;31mVkAPIError\u001b[0m                                Traceback (most recent call last)",
      "\u001b[1;32m~\\AppData\\Local\\Temp/ipykernel_3712/2243448401.py\u001b[0m in \u001b[0;36m<module>\u001b[1;34m\u001b[0m\n\u001b[1;32m----> 1\u001b[1;33m \u001b[0mpeople\u001b[0m \u001b[1;33m=\u001b[0m \u001b[0mvk_api\u001b[0m\u001b[1;33m.\u001b[0m\u001b[0musers\u001b[0m\u001b[1;33m.\u001b[0m\u001b[0mget\u001b[0m\u001b[1;33m(\u001b[0m\u001b[0muser_ids\u001b[0m\u001b[1;33m=\u001b[0m\u001b[1;33m[\u001b[0m\u001b[1;36m1\u001b[0m\u001b[1;33m,\u001b[0m \u001b[1;36m2\u001b[0m\u001b[1;33m,\u001b[0m \u001b[1;34m'lilas_pourpre'\u001b[0m\u001b[1;33m]\u001b[0m\u001b[1;33m,\u001b[0m \u001b[0mfields\u001b[0m\u001b[1;33m=\u001b[0m\u001b[1;33m[\u001b[0m\u001b[1;34m\"photo_id\"\u001b[0m\u001b[1;33m,\u001b[0m \u001b[1;34m\"sex\"\u001b[0m\u001b[1;33m,\u001b[0m \u001b[1;34m\"bdate\"\u001b[0m\u001b[1;33m,\u001b[0m \u001b[1;34m\"city\"\u001b[0m\u001b[1;33m,\u001b[0m \u001b[1;34m\"country\"\u001b[0m\u001b[1;33m,\u001b[0m \u001b[1;34m\"home_town\"\u001b[0m\u001b[1;33m]\u001b[0m\u001b[1;33m,\u001b[0m \u001b[0mv\u001b[0m\u001b[1;33m=\u001b[0m\u001b[1;36m5.124\u001b[0m\u001b[1;33m)\u001b[0m\u001b[1;33m\u001b[0m\u001b[1;33m\u001b[0m\u001b[0m\n\u001b[0m",
      "\u001b[1;32mc:\\program files\\python38\\lib\\site-packages\\vk\\api.py\u001b[0m in \u001b[0;36m__call__\u001b[1;34m(self, **method_args)\u001b[0m\n\u001b[0;32m    171\u001b[0m     \u001b[1;32mdef\u001b[0m \u001b[0m__call__\u001b[0m\u001b[1;33m(\u001b[0m\u001b[0mself\u001b[0m\u001b[1;33m,\u001b[0m \u001b[1;33m**\u001b[0m\u001b[0mmethod_args\u001b[0m\u001b[1;33m)\u001b[0m\u001b[1;33m:\u001b[0m\u001b[1;33m\u001b[0m\u001b[1;33m\u001b[0m\u001b[0m\n\u001b[0;32m    172\u001b[0m         \u001b[0mself\u001b[0m\u001b[1;33m.\u001b[0m\u001b[0m_method_args\u001b[0m \u001b[1;33m=\u001b[0m \u001b[0mmethod_args\u001b[0m\u001b[1;33m\u001b[0m\u001b[1;33m\u001b[0m\u001b[0m\n\u001b[1;32m--> 173\u001b[1;33m         \u001b[1;32mreturn\u001b[0m \u001b[0mself\u001b[0m\u001b[1;33m.\u001b[0m\u001b[0m_api\u001b[0m\u001b[1;33m.\u001b[0m\u001b[0m_session\u001b[0m\u001b[1;33m.\u001b[0m\u001b[0mmake_request\u001b[0m\u001b[1;33m(\u001b[0m\u001b[0mself\u001b[0m\u001b[1;33m)\u001b[0m\u001b[1;33m\u001b[0m\u001b[1;33m\u001b[0m\u001b[0m\n\u001b[0m\u001b[0;32m    174\u001b[0m \u001b[1;33m\u001b[0m\u001b[0m\n\u001b[0;32m    175\u001b[0m \u001b[1;33m\u001b[0m\u001b[0m\n",
      "\u001b[1;32mc:\\program files\\python38\\lib\\site-packages\\vk\\api.py\u001b[0m in \u001b[0;36mmake_request\u001b[1;34m(self, method_request, captcha_response)\u001b[0m\n\u001b[0;32m    100\u001b[0m \u001b[1;33m\u001b[0m\u001b[0m\n\u001b[0;32m    101\u001b[0m                 \u001b[1;32melse\u001b[0m\u001b[1;33m:\u001b[0m\u001b[1;33m\u001b[0m\u001b[1;33m\u001b[0m\u001b[0m\n\u001b[1;32m--> 102\u001b[1;33m                     \u001b[1;32mraise\u001b[0m \u001b[0merror\u001b[0m\u001b[1;33m\u001b[0m\u001b[1;33m\u001b[0m\u001b[0m\n\u001b[0m\u001b[0;32m    103\u001b[0m \u001b[1;33m\u001b[0m\u001b[0m\n\u001b[0;32m    104\u001b[0m     \u001b[1;32mdef\u001b[0m \u001b[0msend_api_request\u001b[0m\u001b[1;33m(\u001b[0m\u001b[0mself\u001b[0m\u001b[1;33m,\u001b[0m \u001b[0mrequest\u001b[0m\u001b[1;33m,\u001b[0m \u001b[0mcaptcha_response\u001b[0m\u001b[1;33m=\u001b[0m\u001b[1;32mNone\u001b[0m\u001b[1;33m)\u001b[0m\u001b[1;33m:\u001b[0m\u001b[1;33m\u001b[0m\u001b[1;33m\u001b[0m\u001b[0m\n",
      "\u001b[1;31mVkAPIError\u001b[0m: 5. User authorization failed: access_token was given to another ip address.. request_params = {'method': 'users.get', 'oauth': '1', 'user_ids': '1,2,lilas_pourpre', 'fields': 'photo_id,sex,bdate,city,country,home_town', 'v': '5.124'}"
     ]
    }
   ],
   "source": [
    "people = vk_api.users.get(user_ids=[1, 2, 'lilas_pourpre'], fields=[\"photo_id\", \"sex\", \"bdate\", \"city\", \"country\", \"home_town\"], v=5.124)"
   ]
  },
  {
   "cell_type": "code",
   "execution_count": 6,
   "metadata": {},
   "outputs": [
    {
     "ename": "NameError",
     "evalue": "name 'people' is not defined",
     "output_type": "error",
     "traceback": [
      "\u001b[1;31m---------------------------------------------------------------------------\u001b[0m",
      "\u001b[1;31mNameError\u001b[0m                                 Traceback (most recent call last)",
      "\u001b[1;32m~\\AppData\\Local\\Temp/ipykernel_3712/3843980225.py\u001b[0m in \u001b[0;36m<module>\u001b[1;34m\u001b[0m\n\u001b[1;32m----> 1\u001b[1;33m \u001b[1;32mfor\u001b[0m \u001b[0mperson\u001b[0m \u001b[1;32min\u001b[0m \u001b[0mpeople\u001b[0m\u001b[1;33m:\u001b[0m\u001b[1;33m\u001b[0m\u001b[1;33m\u001b[0m\u001b[0m\n\u001b[0m\u001b[0;32m      2\u001b[0m     \u001b[0mprint\u001b[0m\u001b[1;33m(\u001b[0m\u001b[0mperson\u001b[0m\u001b[1;33m[\u001b[0m\u001b[1;34m'id'\u001b[0m\u001b[1;33m]\u001b[0m\u001b[1;33m,\u001b[0m \u001b[0mperson\u001b[0m\u001b[1;33m[\u001b[0m\u001b[1;34m'last_name'\u001b[0m\u001b[1;33m]\u001b[0m\u001b[1;33m,\u001b[0m \u001b[0mperson\u001b[0m\u001b[1;33m[\u001b[0m\u001b[1;34m'first_name'\u001b[0m\u001b[1;33m]\u001b[0m\u001b[1;33m)\u001b[0m\u001b[1;33m\u001b[0m\u001b[1;33m\u001b[0m\u001b[0m\n",
      "\u001b[1;31mNameError\u001b[0m: name 'people' is not defined"
     ]
    }
   ],
   "source": [
    "for person in people:\n",
    "    print(person['id'], person['last_name'], person['first_name'])"
   ]
  },
  {
   "cell_type": "markdown",
   "metadata": {},
   "source": [
    "#### Найти участников сообщества:"
   ]
  },
  {
   "cell_type": "code",
   "execution_count": 18,
   "metadata": {},
   "outputs": [],
   "source": [
    "def get_members(groupid, fields=('sex', 'bdate', 'city', 'country', 'domain')):\n",
    "    first = vk_api.groups.getMembers(group_id=groupid, fields=fields, v=5.92)  # Первое выполнение метода\n",
    "    data = first[\"items\"]  # Присваиваем переменной первую тысячу id'шников\n",
    "    count = first[\"count\"] // 1000  # Присваиваем переменной количество тысяч участников\n",
    "    # С каждым проходом цикла смещение offset увеличивается на тысячу\n",
    "    # и еще тысяча id'шников добавляется к нашему списку.\n",
    "    for i in range(1, count+1):  \n",
    "        data = data + vk_api.groups.getMembers(group_id=groupid, fields=fields, v=5.92, offset=i*1000)[\"items\"]\n",
    "        \n",
    "    return data"
   ]
  },
  {
   "cell_type": "code",
   "execution_count": 19,
   "metadata": {},
   "outputs": [
    {
     "data": {
      "text/plain": [
       "104637"
      ]
     },
     "execution_count": 19,
     "metadata": {},
     "output_type": "execute_result"
    }
   ],
   "source": [
    "sbp4_members = get_members(\"sbp4band\")\n",
    "len(sbp4_members)"
   ]
  },
  {
   "cell_type": "code",
   "execution_count": 20,
   "metadata": {},
   "outputs": [
    {
     "data": {
      "text/plain": [
       "[{'id': 10,\n",
       "  'first_name': 'Alexander',\n",
       "  'last_name': 'Kuznetsov',\n",
       "  'is_closed': False,\n",
       "  'can_access_closed': True,\n",
       "  'sex': 2,\n",
       "  'domain': 'kuzya',\n",
       "  'city': {'id': 2, 'title': 'Saint Petersburg'},\n",
       "  'country': {'id': 1, 'title': 'Russia'}},\n",
       " {'id': 172,\n",
       "  'first_name': 'Alexey',\n",
       "  'last_name': 'Gorodetsky',\n",
       "  'is_closed': True,\n",
       "  'can_access_closed': False,\n",
       "  'sex': 2,\n",
       "  'domain': 'g_r_d',\n",
       "  'bdate': '22.3.1985',\n",
       "  'city': {'id': 2, 'title': 'Saint Petersburg'},\n",
       "  'country': {'id': 1, 'title': 'Russia'}},\n",
       " {'id': 201,\n",
       "  'first_name': 'Ignaty',\n",
       "  'last_name': 'Dyakov',\n",
       "  'is_closed': False,\n",
       "  'can_access_closed': True,\n",
       "  'sex': 2,\n",
       "  'domain': 'id201',\n",
       "  'bdate': '3.10.1983',\n",
       "  'city': {'id': 2, 'title': 'Saint Petersburg'},\n",
       "  'country': {'id': 1, 'title': 'Russia'}},\n",
       " {'id': 272,\n",
       "  'first_name': 'Pavel',\n",
       "  'last_name': 'Morzhov',\n",
       "  'is_closed': False,\n",
       "  'can_access_closed': True,\n",
       "  'sex': 2,\n",
       "  'domain': 'id272',\n",
       "  'bdate': '23.1.1986',\n",
       "  'city': {'id': 2, 'title': 'Saint Petersburg'},\n",
       "  'country': {'id': 1, 'title': 'Russia'}},\n",
       " {'id': 490,\n",
       "  'first_name': 'Elena',\n",
       "  'last_name': 'Yaschike',\n",
       "  'is_closed': True,\n",
       "  'can_access_closed': False,\n",
       "  'sex': 1,\n",
       "  'domain': 'id490',\n",
       "  'bdate': '30.11',\n",
       "  'city': {'id': 2, 'title': 'Saint Petersburg'},\n",
       "  'country': {'id': 1, 'title': 'Russia'}},\n",
       " {'id': 591,\n",
       "  'first_name': 'Ivan',\n",
       "  'last_name': 'Zhuravlev',\n",
       "  'is_closed': False,\n",
       "  'can_access_closed': True,\n",
       "  'sex': 2,\n",
       "  'domain': 'matrich',\n",
       "  'bdate': '28.10.1986',\n",
       "  'city': {'id': 2, 'title': 'Saint Petersburg'},\n",
       "  'country': {'id': 1, 'title': 'Russia'}},\n",
       " {'id': 636,\n",
       "  'first_name': 'Alexander',\n",
       "  'last_name': 'Belyaev',\n",
       "  'is_closed': False,\n",
       "  'can_access_closed': True,\n",
       "  'sex': 2,\n",
       "  'domain': 'id636',\n",
       "  'bdate': '1.5.1989',\n",
       "  'city': {'id': 12, 'title': 'Pushkin'},\n",
       "  'country': {'id': 1, 'title': 'Russia'}},\n",
       " {'id': 674,\n",
       "  'first_name': 'Sergey',\n",
       "  'last_name': 'Yakimov',\n",
       "  'is_closed': False,\n",
       "  'can_access_closed': True,\n",
       "  'sex': 2,\n",
       "  'domain': 's.yakimov',\n",
       "  'bdate': '30.6',\n",
       "  'city': {'id': 99, 'title': 'Novosibirsk'},\n",
       "  'country': {'id': 1, 'title': 'Russia'}},\n",
       " {'id': 975,\n",
       "  'first_name': 'DELETED',\n",
       "  'last_name': '',\n",
       "  'deactivated': 'deleted',\n",
       "  'sex': 2,\n",
       "  'domain': 'id975'},\n",
       " {'id': 1004,\n",
       "  'first_name': 'Ksenia',\n",
       "  'last_name': 'Valdman',\n",
       "  'is_closed': False,\n",
       "  'can_access_closed': True,\n",
       "  'sex': 1,\n",
       "  'domain': 'id1004',\n",
       "  'bdate': '23.9',\n",
       "  'city': {'id': 2, 'title': 'Saint Petersburg'},\n",
       "  'country': {'id': 1, 'title': 'Russia'}}]"
      ]
     },
     "execution_count": 20,
     "metadata": {},
     "output_type": "execute_result"
    }
   ],
   "source": [
    "sbp4_members[:10]"
   ]
  },
  {
   "cell_type": "markdown",
   "metadata": {},
   "source": [
    "#### Выгрузить посты из сообщества:"
   ]
  },
  {
   "cell_type": "code",
   "execution_count": 21,
   "metadata": {},
   "outputs": [],
   "source": [
    "def get_posts(owner_id):\n",
    "    first = vk_api.wall.get(domain=owner_id, count=100, filter=\"owner\", v=5.124)\n",
    "    data = first[\"items\"]  # Присваиваем переменной первую тысячу id'шников\n",
    "    count = first[\"count\"] // 100  # Присваиваем переменной количество тысяч участников\n",
    "    # С каждым проходом цикла смещение offset увеличивается на тысячу\n",
    "    # и еще тысяча id'шников добавляется к нашему списку.\n",
    "    for i in range(1, count+1):  \n",
    "        data += vk_api.wall.get(domain=owner_id, v=5.124, filter=\"owner\", count=100, offset=i*100)[\"items\"]\n",
    "    return [i['text'] for i in data]"
   ]
  },
  {
   "cell_type": "code",
   "execution_count": 22,
   "metadata": {},
   "outputs": [
    {
     "data": {
      "text/plain": [
       "1109"
      ]
     },
     "execution_count": 22,
     "metadata": {},
     "output_type": "execute_result"
    }
   ],
   "source": [
    "sbp4_posts = get_posts(\"sbp4band\")\n",
    "len(sbp4_posts)"
   ]
  },
  {
   "cell_type": "code",
   "execution_count": 25,
   "metadata": {},
   "outputs": [
    {
     "name": "stdout",
     "output_type": "stream",
     "text": [
      "Новый альбом! СБПЧ “Всё равно” (2020)! \n",
      "Слушайте, где хотите: https://band.link/vseravno_sbp4\n",
      "День ушел искать рассвет! Мы записали кавер на песню Кристины Орбакайте «Позови меня». Слушайте его в специальном плейлисте #ОсвежиМузыкуTicTac в Spotify! \n",
      "Ссылка: https://open.spotify.com/playlist/60G7SYsgO9RxVsAYoIoF5B\n",
      "#ad\n",
      "13 сентября будем ходить ходуном. Прямо во дворе Пауэрхауса. Всё, как обычно, только соскучившись. Новые песни, старые песни. Прыжки и кувырки. Радость и смех. \n",
      "Такое надо в корне пресекать!\n",
      "Билеты: https://sbp4band.ticketscloud.org\n",
      "\n",
      "Пожалуйста, планируйте приобретение билетов заранее. Высока вероятность, что продажа на входе осуществляться не будет\n",
      "Эй, вы не представляете! \n",
      "Что вы пропускаете!\n",
      "Завтра! Новый альбом СБПЧ \"Всё равно\"!\n",
      "Я подумал, вы под грибами\n",
      "27 августа выходит новый альбом СБПЧ «Всё равно».\n",
      "27 августа выйдет наш новый альбом \"Всё равно\". А пока вы можете оформить предзаказ. И послушать последнюю песню — \"Холодный день\". \n",
      "http://band.link/SBP4_VSERAVNO\n",
      "Через 20 минут смотрите наш диджей сет в прямом эфире в рамках проекта [club197239414|Hyper Club] от [club152229991|glo] здесь или на сайте: www.hyper-club.ru\n",
      "\n",
      "#реклама 18+\n",
      "Киноальманах \"J Hotel: Музыкальные номера\"! Мы там впервые играем новую песню \"Холодный день\". Спасибо всем причастным. Enjoy!\n",
      "31 июля состоится онлайн-премьера киноальманаха \"J Hotel: Музыкальные номера\". Мы там с другими классными группами впервые исполняем совсем новые песни. Наша называется \"Холодный день\". Ссылка на событие в комментариях.\n",
      "Теперь фильм про то, как мы записывали альбом в Африке можно посмотреть и на КиноПоиске! А альбом тоже скоро подъедет.\n",
      "https://www.kinopoisk.ru/series/1392553/\n"
     ]
    }
   ],
   "source": [
    "for post in sbp4_posts[:10]:\n",
    "    print(post)"
   ]
  },
  {
   "cell_type": "markdown",
   "metadata": {},
   "source": [
    "#### Поиск пабликов по запросу:"
   ]
  },
  {
   "cell_type": "code",
   "execution_count": null,
   "metadata": {},
   "outputs": [],
   "source": [
    "import time"
   ]
  },
  {
   "cell_type": "code",
   "execution_count": null,
   "metadata": {},
   "outputs": [],
   "source": [
    "# https://vkhost.github.io/\n",
    "\n",
    "personal_token = \"\"\n",
    "session = vk.Session(access_token=personal_token)  # Авторизация\n",
    "vk_api = vk.API(session)"
   ]
  },
  {
   "cell_type": "markdown",
   "metadata": {},
   "source": [
    "Обратите внимание — даже при использовании параметра offset для получения информации доступны только первые 1000 результатов."
   ]
  },
  {
   "cell_type": "code",
   "execution_count": null,
   "metadata": {},
   "outputs": [],
   "source": [
    "def get_groups(query):\n",
    "    first = vk_api.groups.search(q=query, count=1000, type=\"group\", v=5.124)\n",
    "    data = first[\"items\"]  # Присваиваем переменной первую тысячу id'шников\n",
    "    count = first[\"count\"]\n",
    "    return [(i['name'], i['id']) for i in data]"
   ]
  },
  {
   "cell_type": "code",
   "execution_count": null,
   "metadata": {},
   "outputs": [],
   "source": [
    "found_groups = get_groups(\"hip-hop\")\n",
    "len(found_groups)"
   ]
  },
  {
   "cell_type": "markdown",
   "metadata": {},
   "source": [
    "Великолепно. Мы собрали информацию по подписчикам, выгрузили все посты паблика и умеем искать паблики по запросу.\n",
    "\n",
    "Теперь наша задача -- почистить данные с помощью регулярок и сохранить в файлы."
   ]
  },
  {
   "cell_type": "markdown",
   "metadata": {},
   "source": [
    "**Немного про ваш проект:** предполагается, что вы таким образом (или вручную) ищете и находите нужные вам паблики, далее для каждого паблика выгружаете нужную информацию: например, подписчиков (смотрите, из какого они города, их пол и возраст, строите графики) и посты (извлекаете информацию о концертах или об альбомах, клипах, и т.д.)"
   ]
  },
  {
   "cell_type": "markdown",
   "metadata": {},
   "source": [
    "#### 1. get_groups\n",
    "\n",
    "Для начала разберемся с найденным списком групп, сохраним его в файл:"
   ]
  },
  {
   "cell_type": "code",
   "execution_count": null,
   "metadata": {},
   "outputs": [],
   "source": [
    "# our code here"
   ]
  },
  {
   "cell_type": "markdown",
   "metadata": {},
   "source": [
    "Теперь вы всегда можете его заново открыть и использовать в дальнейшем"
   ]
  },
  {
   "cell_type": "markdown",
   "metadata": {},
   "source": [
    "#### 2. get_members\n",
    "\n",
    "Теперь разберемся с подписчиками"
   ]
  },
  {
   "cell_type": "code",
   "execution_count": null,
   "metadata": {},
   "outputs": [],
   "source": [
    "len(sbp4_members)"
   ]
  },
  {
   "cell_type": "code",
   "execution_count": null,
   "metadata": {},
   "outputs": [],
   "source": [
    "sbp4_members[0]"
   ]
  },
  {
   "cell_type": "code",
   "execution_count": null,
   "metadata": {},
   "outputs": [],
   "source": [
    "# our code here"
   ]
  },
  {
   "cell_type": "markdown",
   "metadata": {},
   "source": [
    "#### 3. get_posts"
   ]
  },
  {
   "cell_type": "markdown",
   "metadata": {},
   "source": [
    "и, наконец, с постами"
   ]
  },
  {
   "cell_type": "code",
   "execution_count": null,
   "metadata": {},
   "outputs": [],
   "source": [
    "from pymystem3 import Mystem"
   ]
  },
  {
   "cell_type": "code",
   "execution_count": null,
   "metadata": {},
   "outputs": [],
   "source": [
    "# your regexps below\n",
    "http_pattern = re.compile(\"your regexp here\")\n",
    "user_tag_pattern = re.compile(\"your regexp here\")"
   ]
  },
  {
   "cell_type": "code",
   "execution_count": null,
   "metadata": {},
   "outputs": [],
   "source": [
    "def clean_text(text):\n",
    "    \"\"\"\n",
    "    удалить ссылки, удалить переводы строк, удалить отметки пользователей\n",
    "    \"\"\"\n",
    "    text = re.sub(http_pattern, \"\", text)\n",
    "    text = re.sub(user_tag_pattern, \"\", text)\n",
    "    text = # your code here (удалить переводы строк)\n",
    "    return text"
   ]
  },
  {
   "cell_type": "code",
   "execution_count": null,
   "metadata": {},
   "outputs": [],
   "source": [
    "def lemmatize_text(text):\n",
    "    m = Mystem()\n",
    "    lemmas = m.lemmatize(text)\n",
    "    lemmatized_text = ''.join(lemmas)\n",
    "    return lemmatized_text"
   ]
  },
  {
   "cell_type": "code",
   "execution_count": null,
   "metadata": {},
   "outputs": [],
   "source": [
    "for post in sbp4_posts:\n",
    "    cleaned = clean_text(post)\n",
    "    print(cleaned)\n",
    "    lemmatized = lemmatize_text(cleaned)\n",
    "    print(lemmatized)\n",
    "    break"
   ]
  },
  {
   "cell_type": "markdown",
   "metadata": {},
   "source": [
    "## Twitter"
   ]
  },
  {
   "cell_type": "code",
   "execution_count": null,
   "metadata": {},
   "outputs": [],
   "source": [
    "import requests\n",
    "from requests_oauthlib import OAuth1\n",
    "url = 'https://api.twitter.com/1.1/account/verify_credentials.json'\n",
    "\n",
    "API_KEY=\"\"\n",
    "API_SECRET=\"\"\n",
    "ACCESS_TOKEN=\"\"\n",
    "ACCESS_TOKEN_SECRET=\"\"\n",
    "\n",
    "auth = OAuth1(API_KEY, API_SECRET, ACCESS_TOKEN, ACCESS_TOKEN_SECRET)\n",
    "requests.get(url, auth=auth)"
   ]
  },
  {
   "cell_type": "code",
   "execution_count": null,
   "metadata": {},
   "outputs": [],
   "source": [
    "account_list = [\"realDonaldTrump\"]"
   ]
  },
  {
   "cell_type": "markdown",
   "metadata": {},
   "source": [
    "Twitter API explicitly says that you cannot retrieve more then 200 tweets from a user per request so this is not a limitation of this particular library you're using but a limitation imposed by Twitter. But keep in mind that this is per request, if you will send multiple requests you can get up to 3200 tweets in total. But this still means that you can't get all tweets, only 3200."
   ]
  },
  {
   "cell_type": "code",
   "execution_count": null,
   "metadata": {},
   "outputs": [],
   "source": [
    "r = requests.get('https://api.twitter.com/1.1/statuses/user_timeline.json?screen_name=realDonaldTrump&count=200', auth=auth).json()\n",
    "for i in r:\n",
    "    print(i['text'])"
   ]
  },
  {
   "cell_type": "code",
   "execution_count": null,
   "metadata": {},
   "outputs": [],
   "source": []
  }
 ],
 "metadata": {
  "kernelspec": {
   "display_name": "Python 3 (ipykernel)",
   "language": "python",
   "name": "python3"
  },
  "language_info": {
   "codemirror_mode": {
    "name": "ipython",
    "version": 3
   },
   "file_extension": ".py",
   "mimetype": "text/x-python",
   "name": "python",
   "nbconvert_exporter": "python",
   "pygments_lexer": "ipython3",
   "version": "3.8.6"
  }
 },
 "nbformat": 4,
 "nbformat_minor": 2
}
